{
 "cells": [
  {
   "cell_type": "markdown",
   "metadata": {},
   "source": [
    "# Benchmark InfoGroup against other datasets\n",
    "\n",
    "## Data coverage\n",
    "\n",
    "### InfoGroup (IG)\n",
    "- Years 1997-2015\n",
    "  - States VI and PR 2003-2015\n",
    "- Establishment level micro data\n",
    "- Location, industry, employment, sales\n",
    "\n",
    "### County Business Patterns (CBP)\n",
    "[Homepage](https://www.census.gov/programs-surveys/cbp.html)\n",
    "- Years 1986 - 2015\n",
    "- Aggregated establishment, employment counts and payroll by:\n",
    "  - year\n",
    "  - establishment size\n",
    "  - industry (SIC 1986-1997, NAICS 1998-2015)\n",
    "  - legal form of organization:\n",
    "    - US file: 2008-2015\n",
    "    - state file: 2010-2015\n",
    "  - state\n",
    "  - metropolitan, micropolitan area\n",
    "  - county\n",
    "  - zip code\n",
    "- Data suppression flags\n",
    "- Noise flags (2007-2015)\n",
    "\n",
    "### Business Dynamics Statistics (BDS)\n",
    "[Homepage](https://www.census.gov/ces/dataproducts/bds/)\n",
    "- Employment – job creation and destruction\n",
    "- Job expansions and contractions\n",
    "- Number of establishments\n",
    "- Establishment openings and closings\n",
    "- Number of startups and firm shutdowns\n",
    "- Annual statistics for 1976–2014\n",
    "  - Age and size of firms and establishments\n",
    "  - State\n",
    "  - Metro/Non-metro and MSA\n",
    "  - Standard Industrial Classification sectors\n",
    "- Coverage of the entire U.S. economy\n",
    "  \n",
    "\n",
    "## Conclusions\n",
    "- IG minimal employment is 1, there are no 0-sized establishments.\n",
    "- In 2015:\n",
    "  - 31.6% of all establishments were of size 1-2 and had 5% of total employment\n",
    "  - size 1-9: 77.7% of establishments, 24.6% of employment\n",
    "  - size 100+: 1.4% establishments and 25.1% of employment\n",
    "- Distribution of employment and establishments over size did not change much between 1997 and 2015\n",
    "- In 1998-2002 employment looks underreported, especially in small establishments.\n",
    "- IG has about 2 times as many establishments as CBP or BDS, and about 30% higher employment.\n",
    "- Difference grows over time.\n",
    "- Dynamics is similar, but there are years where IG shows dynamics not present in CBP/BDS: jump in 2001, drop in 2011 (especially employment).\n",
    "- By size:\n",
    "  - No group where IG < CBP or BDS\n",
    "  - Largest difference in 1-4 and 5-9 groups\n",
    "  - 100-249, 250-499 and 500-999 groups are very close\n",
    "- By state\n",
    "  - establishments IG/CBP ratio ranges from 1.3 to 2.8, IG/BDS from 1.5 to 3.2,\n",
    "  - employment employment IG/CBP from 1.0 to 1.8, IG/BDS from 1.0 to 1.8,\n",
    "  - some states are strong outliers (e.g. DC has much higher counts in IG)\n",
    "- By industry\n",
    "  - Strong outliers, especially in NAICS (11, 55, 61, 92)\n",
    "  - For some, dynamics differs significantly from aggregate\n",
    "\n"
   ]
  },
  {
   "cell_type": "markdown",
   "metadata": {},
   "source": [
    "# Initialization\n",
    "Functions and other code snippets used in various parts on this notebook."
   ]
  },
  {
   "cell_type": "code",
   "execution_count": 1,
   "metadata": {
    "ExecuteTime": {
     "end_time": "2017-09-18T15:34:53.083691Z",
     "start_time": "2017-09-18T15:34:52.156416Z"
    },
    "collapsed": true,
    "init_cell": true
   },
   "outputs": [],
   "source": [
    "import os\n",
    "import tempfile\n",
    "import json\n",
    "import requests\n",
    "import urllib\n",
    "import pickle\n",
    "import numpy as np\n",
    "import pandas as pd\n",
    "import matplotlib as mpl\n",
    "import matplotlib.pyplot as plt\n",
    "import seaborn as sns"
   ]
  },
  {
   "cell_type": "code",
   "execution_count": 2,
   "metadata": {
    "ExecuteTime": {
     "end_time": "2017-09-18T15:34:53.090171Z",
     "start_time": "2017-09-18T15:34:53.085979Z"
    },
    "collapsed": true,
    "init_cell": true
   },
   "outputs": [],
   "source": [
    "from IPython.core.interactiveshell import InteractiveShell\n",
    "InteractiveShell.ast_node_interactivity = 'last_expr'\n",
    "from IPython.display import display as disp\n",
    "pd.options.display.max_columns = 25"
   ]
  },
  {
   "cell_type": "markdown",
   "metadata": {},
   "source": [
    "## Save session"
   ]
  },
  {
   "cell_type": "code",
   "execution_count": 146,
   "metadata": {
    "ExecuteTime": {
     "end_time": "2017-09-18T17:15:58.715361Z",
     "start_time": "2017-09-18T17:15:58.688882Z"
    },
    "collapsed": true
   },
   "outputs": [],
   "source": [
    "def save_session(filename='session.pkl'):\n",
    "    '''Save current session.'''\n",
    "    variables_to_save = [\n",
    "        'cbp_by_size',\n",
    "        'cbp_by_state',\n",
    "        'cbp_by_naics',\n",
    "        'bds_by_size',\n",
    "        'bds_by_state',\n",
    "        'bds_by_sic',\n",
    "        'ig_by_size',\n",
    "        'ig_by_state',\n",
    "        'ig_by_naics',\n",
    "        'ig_by_sic'\n",
    "    ]\n",
    "    \n",
    "    store = {k: globals()[k] for k in variables_to_save}\n",
    "    \n",
    "    with open(filename, 'wb') as f:\n",
    "        pickle.dump(store, f)\n",
    "        \n",
    "save_session()"
   ]
  },
  {
   "cell_type": "code",
   "execution_count": 3,
   "metadata": {
    "ExecuteTime": {
     "end_time": "2017-09-18T15:34:53.108677Z",
     "start_time": "2017-09-18T15:34:53.092225Z"
    },
    "collapsed": true,
    "init_cell": true
   },
   "outputs": [],
   "source": [
    "def load_session(filename='session.pkl'):\n",
    "    '''Restore previous session.'''\n",
    "    with open(filename, 'rb') as f:\n",
    "        store = pickle.load(f)\n",
    "    \n",
    "    for k, v in store.items():\n",
    "        globals()[k] = v\n",
    "        \n",
    "load_session()"
   ]
  },
  {
   "cell_type": "code",
   "execution_count": 32,
   "metadata": {
    "ExecuteTime": {
     "end_time": "2017-09-18T15:54:37.646601Z",
     "start_time": "2017-09-18T15:54:37.616503Z"
    },
    "collapsed": true,
    "init_cell": true
   },
   "outputs": [],
   "source": [
    "# temporary directory\n",
    "tmpdir_autoremove = False\n",
    "\n",
    "if tmpdir_autoremove:\n",
    "    tmpdir = tempfile.TemporaryDirectory(dir='.')\n",
    "    tmpdir = tmpdir.name\n",
    "else:\n",
    "    tmpdir = 'tmp/'\n",
    "    try:\n",
    "        os.mkdir(tmpdir)\n",
    "    except FileExistsError:\n",
    "        pass"
   ]
  },
  {
   "cell_type": "code",
   "execution_count": 5,
   "metadata": {
    "ExecuteTime": {
     "end_time": "2017-09-18T15:34:53.137408Z",
     "start_time": "2017-09-18T15:34:53.127707Z"
    },
    "collapsed": true,
    "init_cell": true
   },
   "outputs": [],
   "source": [
    "census_bucket_name = 'ig-census'\n",
    "project_id = 'info-group-162919'\n",
    "\n",
    "# metadata\n",
    "meta_filename = 'census.json'\n",
    "with open(meta_filename, 'r') as f:\n",
    "    meta = json.load(f)\n",
    "    \n",
    "ig_years = list(range(1997, 2016))\n",
    "cbp_years = list(range(1986, 2016))"
   ]
  },
  {
   "cell_type": "code",
   "execution_count": 16,
   "metadata": {
    "ExecuteTime": {
     "end_time": "2017-09-18T15:39:17.669019Z",
     "start_time": "2017-09-18T15:39:17.663318Z"
    }
   },
   "outputs": [
    {
     "data": {
      "text/plain": [
       "'cbp86us.txt'"
      ]
     },
     "execution_count": 16,
     "metadata": {},
     "output_type": "execute_result"
    }
   ],
   "source": [
    "url = 'https://www2.census.gov/programs-surveys/cbp/datasets/1986/cbp86us.txt'\n",
    "path = urllib.parse.urlparse(url).path\n",
    "os.path.basename(path)"
   ]
  },
  {
   "cell_type": "code",
   "execution_count": 24,
   "metadata": {
    "ExecuteTime": {
     "end_time": "2017-09-18T15:42:44.409794Z",
     "start_time": "2017-09-18T15:42:44.391584Z"
    },
    "collapsed": true
   },
   "outputs": [],
   "source": [
    "def download_text(url, dir):\n",
    "    '''\n",
    "    Download plain text file and save it into directory. Return name of the downloaded file.\n",
    "    '''\n",
    "    from requests import get\n",
    "    from os.path import join, basename\n",
    "    from urllib.parse import urlparse\n",
    "    \n",
    "    file_name = basename(urlparse(url).path)\n",
    "    r = get(url)\n",
    "    file_path = join(dir, file_name)\n",
    "    with open(file_path, 'w') as f:\n",
    "        f.writelines(r.text)\n",
    "    \n",
    "    return file_name"
   ]
  },
  {
   "cell_type": "code",
   "execution_count": 6,
   "metadata": {
    "ExecuteTime": {
     "end_time": "2017-09-18T15:34:53.153922Z",
     "start_time": "2017-09-18T15:34:53.140032Z"
    },
    "collapsed": true,
    "init_cell": true
   },
   "outputs": [],
   "source": [
    "def download_unzip(url, dir):\n",
    "    '''\n",
    "    Download zip file and extract content into given directory. Return list of extracted filenames.\n",
    "    '''\n",
    "    from requests import get\n",
    "    from io import BytesIO\n",
    "    from zipfile import ZipFile\n",
    "    \n",
    "    # download zip file\n",
    "    r = get(url)\n",
    "    r.raise_for_status()\n",
    "    \n",
    "    # unzip\n",
    "    zf = ZipFile(BytesIO(r.content))\n",
    "    zf.extractall(dir)\n",
    "    \n",
    "    return zf.namelist()"
   ]
  },
  {
   "cell_type": "code",
   "execution_count": 7,
   "metadata": {
    "ExecuteTime": {
     "end_time": "2017-09-18T15:34:53.195103Z",
     "start_time": "2017-09-18T15:34:53.156480Z"
    },
    "collapsed": true,
    "init_cell": true
   },
   "outputs": [],
   "source": [
    "def gs_file_exists(bucket_name, object_name):\n",
    "    from google.cloud import storage\n",
    "    client = storage.Client()\n",
    "    bucket = client.get_bucket(bucket_name)\n",
    "    blob = bucket.get_blob(object_name)\n",
    "    return blob is not None"
   ]
  },
  {
   "cell_type": "code",
   "execution_count": 8,
   "metadata": {
    "ExecuteTime": {
     "end_time": "2017-09-18T15:34:53.216429Z",
     "start_time": "2017-09-18T15:34:53.202047Z"
    },
    "collapsed": true,
    "init_cell": true
   },
   "outputs": [],
   "source": [
    "def gs_upload_compress(file_path, bucket_name, object_name=''):\n",
    "    '''\n",
    "    Compress and upload file to GCS bucket.\n",
    "    Example: gs_upload_compress('raw_data/cbp08.txt', 'ig-anton', 'cbp/2008.txt')\n",
    "    If object_name == '', object will be in bucket root and will have same name as uploaded file.\n",
    "    '''\n",
    "\n",
    "    # client library does not have an analog of -Z option of gsutil, so uploads will be done with shell commands\n",
    "    from subprocess import Popen, PIPE\n",
    "    \n",
    "    # construct shell command\n",
    "    gs_path = 'gs://' + bucket_name + '/' + object_name\n",
    "    p = Popen(['gsutil', 'cp', '-Z', file_path, gs_path], stdout=PIPE, stderr=PIPE, encoding='UTF-8')\n",
    "    \n",
    "    # run shell command and save (stdout, stderr) to o\n",
    "    o = p.communicate()\n",
    "    \n",
    "    # raise on error\n",
    "    if p.returncode != 0:\n",
    "        raise Exception('GSC upload error: {}'.format(o[1]))"
   ]
  },
  {
   "cell_type": "code",
   "execution_count": 9,
   "metadata": {
    "ExecuteTime": {
     "end_time": "2017-09-18T15:34:53.230296Z",
     "start_time": "2017-09-18T15:34:53.218764Z"
    },
    "collapsed": true,
    "init_cell": true
   },
   "outputs": [],
   "source": [
    "def gs_download(bucket_name, object_name, file_path='./'):\n",
    "    '''\n",
    "    Download file from GCS if it does not exist locally yet. Gzipped files (Content-Encoding: gzip) are automatically uncompressed.\n",
    "    If file_path ends with \"/\", it is considered a directory and object basename is used as file name.\n",
    "    file_path can be just a basename (e.g. \"cbp99st.txt\"), then it will be saved to current directory.\n",
    "    '''\n",
    "    from google.cloud import storage\n",
    "    from os.path import basename, join, exists\n",
    "    client = storage.Client()\n",
    "    bucket = client.get_bucket(bucket_name)\n",
    "    blob = bucket.get_blob(object_name)\n",
    "    if basename(file_path) == '':\n",
    "        file_path = join(file_path, basename(object_name))\n",
    "    if not exists(file_path):\n",
    "        blob.download_to_filename(file_path)"
   ]
  },
  {
   "cell_type": "code",
   "execution_count": 10,
   "metadata": {
    "ExecuteTime": {
     "end_time": "2017-09-18T15:34:53.734941Z",
     "start_time": "2017-09-18T15:34:53.234046Z"
    },
    "collapsed": true,
    "init_cell": true
   },
   "outputs": [],
   "source": [
    "# codes\n",
    "file_name = os.path.join(tmpdir, 'codes.json')\n",
    "\n",
    "gs_download(census_bucket_name, 'codes/state.json', file_name)\n",
    "with open(file_name) as f:\n",
    "    state_codes = json.load(f)\n",
    "\n",
    "gs_download(census_bucket_name, 'codes/naics.json', file_name)\n",
    "with open(file_name) as f:\n",
    "    naics_codes = json.load(f)\n",
    "    \n",
    "gs_download(census_bucket_name, 'codes/sic.json', file_name)\n",
    "with open(file_name) as f:\n",
    "    sic_codes = json.load(f)"
   ]
  },
  {
   "cell_type": "code",
   "execution_count": 11,
   "metadata": {
    "ExecuteTime": {
     "end_time": "2017-09-18T15:34:53.786569Z",
     "start_time": "2017-09-18T15:34:53.738262Z"
    },
    "collapsed": true,
    "init_cell": true
   },
   "outputs": [],
   "source": [
    "def meta_find(keywords):\n",
    "    '''\n",
    "    Find and print records in GS Census data that include all keywords as substrings.\n",
    "    :keywords: must be a list.\n",
    "    Examples: meta_find(['1998']), meta_find(['estab', 'size', 'sector'])\n",
    "    '''\n",
    "    import json\n",
    "    \n",
    "    def record_has_keyword(record, keyword):\n",
    "        'Check if values of :record: dicitonary contain :keyword:.'\n",
    "        keyword = keyword.lower()\n",
    "        for v in record.values():\n",
    "            v = str(v)\n",
    "            v = v.lower()\n",
    "            if v.find(keyword) != -1:\n",
    "                return True\n",
    "        return False\n",
    "    \n",
    "    def record_has_keywords(record, keywords):\n",
    "        for k in keywords:\n",
    "            if not record_has_keyword(record, k):\n",
    "                return False\n",
    "        return True\n",
    "    \n",
    "    def process(record):\n",
    "        if record_has_keywords(record, keywords):\n",
    "            print(json.dumps(record, indent=2))\n",
    "            \n",
    "    for r in meta['cbp']['tables']:\n",
    "        process(r)\n",
    "        \n",
    "    for r in meta['bds']['estab']:\n",
    "        process(r)\n",
    "        \n",
    "    for r in meta['bds']['firm']:\n",
    "        process(r)\n"
   ]
  },
  {
   "cell_type": "markdown",
   "metadata": {},
   "source": [
    "# Metadata\n",
    "\n",
    "Information about Census data files, their original download links and locations in GCS."
   ]
  },
  {
   "cell_type": "markdown",
   "metadata": {},
   "source": [
    "## CBP\n",
    "\n",
    "For now, download state files all years (1986-2015), https://www2.census.gov/programs-surveys/cbp/datasets/{y}/cbp{y2}st.zip, and save each as cbp{y2}st.txt."
   ]
  },
  {
   "cell_type": "code",
   "execution_count": 29,
   "metadata": {
    "ExecuteTime": {
     "end_time": "2017-09-18T14:56:48.545759Z",
     "start_time": "2017-09-18T14:56:48.515263Z"
    },
    "collapsed": true
   },
   "outputs": [],
   "source": [
    "years = list(range(1986, 2016))\n",
    "obj_name_prefix = 'cbp/'\n",
    "\n",
    "cbp_meta = {\n",
    "    'years': years,\n",
    "    'us': [],\n",
    "    'state': []\n",
    "}\n",
    "\n",
    "for y in years:\n",
    "    y2 = str(y)[2:]\n",
    "\n",
    "    # US file\n",
    "    name = 'cbp{y2}us.txt'.format(y2=y2)\n",
    "    if y < 2008:\n",
    "        # plain text\n",
    "        url = 'https://www2.census.gov/programs-surveys/cbp/datasets/{y}/cbp{y2}us.txt'.format(y=y, y2=y2)\n",
    "    else:\n",
    "        # zipped text\n",
    "        url = 'https://www2.census.gov/programs-surveys/cbp/datasets/{y}/cbp{y2}us.zip'.format(y=y, y2=y2)\n",
    "    t = {\n",
    "        'name': name,\n",
    "        'desc': 'Complete U.S. File, {y}'.format(y=y),\n",
    "        'year': y,\n",
    "        'obj_name': obj_name_prefix + name,\n",
    "        'url': url\n",
    "    }\n",
    "    cbp_meta['us'].append(t)\n",
    "    \n",
    "    # state file\n",
    "    name = 'cbp{y2}st.txt'.format(y2=y2)\n",
    "    t = {\n",
    "        'name': name,\n",
    "        'desc': 'Complete State File, {y}'.format(y=y),\n",
    "        'year': y,\n",
    "        'obj_name': obj_name_prefix + name,\n",
    "        'url': 'https://www2.census.gov/programs-surveys/cbp/datasets/{y}/cbp{y2}st.zip'.format(y=y, y2=y2)\n",
    "    }\n",
    "    cbp_meta['state'].append(t)"
   ]
  },
  {
   "cell_type": "markdown",
   "metadata": {},
   "source": [
    "## BDS\n",
    "Get list of available BDS files."
   ]
  },
  {
   "cell_type": "code",
   "execution_count": 30,
   "metadata": {
    "ExecuteTime": {
     "end_time": "2017-09-18T14:57:13.491795Z",
     "start_time": "2017-09-18T14:57:13.486231Z"
    },
    "collapsed": true
   },
   "outputs": [],
   "source": [
    "meta['cbp'] = cbp_meta"
   ]
  },
  {
   "cell_type": "code",
   "execution_count": 11,
   "metadata": {
    "ExecuteTime": {
     "end_time": "2017-08-24T16:10:28.167123Z",
     "start_time": "2017-08-24T16:10:26.059656Z"
    },
    "collapsed": true
   },
   "outputs": [],
   "source": [
    "from requests import get\n",
    "from bs4 import BeautifulSoup\n",
    "from urllib.parse import urlparse\n",
    "import os\n",
    "\n",
    "bds_meta = {\n",
    "    'firm': [],\n",
    "    'estab': []\n",
    "}\n",
    "\n",
    "index_pages = {\n",
    "    'firm': 'https://www.census.gov/ces/dataproducts/bds/data_firm.html',\n",
    "    'estab': 'https://www.census.gov/ces/dataproducts/bds/data_estab.html'\n",
    "}\n",
    "\n",
    "obj_name_prefix = 'bds/'\n",
    "\n",
    "for k, v in index_pages.items():\n",
    "    r = get(v)\n",
    "    page = BeautifulSoup(r.text, 'lxml')\n",
    "    trs = page.find(class_='datatable').find_all('tr')\n",
    "    for tr in trs[1:]:\n",
    "        tds = tr.find_all('td')\n",
    "        desc = tds[0].text\n",
    "        if desc != '':\n",
    "            href = tds[2].a.get('href')\n",
    "            url_path = urlparse(href).path\n",
    "            file_name = os.path.basename(url_path).replace('_release', '')\n",
    "            x = {\n",
    "                'desc': desc,\n",
    "                'url': href,\n",
    "                'name': file_name,\n",
    "                'obj_name': obj_name_prefix + file_name\n",
    "            }\n",
    "            bds_meta[k].append(x)"
   ]
  },
  {
   "cell_type": "markdown",
   "metadata": {},
   "source": [
    "## Save"
   ]
  },
  {
   "cell_type": "code",
   "execution_count": null,
   "metadata": {
    "collapsed": true
   },
   "outputs": [],
   "source": [
    "import json\n",
    "\n",
    "meta = {\n",
    "    'desc': 'This file contains information about Census data, available in Google Cloud Storage.',\n",
    "    'gs_bucket': 'ig-census',\n",
    "    'cbp': cbp_meta,\n",
    "    'bds': bds_meta\n",
    "}"
   ]
  },
  {
   "cell_type": "code",
   "execution_count": 31,
   "metadata": {
    "ExecuteTime": {
     "end_time": "2017-09-18T14:57:21.497140Z",
     "start_time": "2017-09-18T14:57:21.491256Z"
    },
    "collapsed": true
   },
   "outputs": [],
   "source": [
    "with open('census.json', 'w') as f:\n",
    "    json.dump(meta, f, indent=2)"
   ]
  },
  {
   "cell_type": "markdown",
   "metadata": {},
   "source": [
    "# Explore IG\n",
    "\n",
    "Descriptive statistics of IG data."
   ]
  },
  {
   "cell_type": "markdown",
   "metadata": {},
   "source": [
    "## By size"
   ]
  },
  {
   "cell_type": "code",
   "execution_count": 39,
   "metadata": {
    "ExecuteTime": {
     "end_time": "2017-09-14T20:00:51.021263Z",
     "start_time": "2017-09-14T20:00:45.532148Z"
    },
    "collapsed": true
   },
   "outputs": [],
   "source": [
    "# by year and size (employment category)\n",
    "\n",
    "table = 'original.data'\n",
    "\n",
    "# there are only 3 establishments in 1997 that reported employees = 0, so I ignore them and label as null\n",
    "\n",
    "query = '''\n",
    "select\n",
    "  year,\n",
    "  case\n",
    "    when employees = 1 then 1\n",
    "    when employees = 2 then 2\n",
    "    when employees between 3 and 4 then 3\n",
    "    when employees between 5 and 9 then 5\n",
    "    when employees between 10 and 19 then 10\n",
    "    when employees between 20 and 49 then 20\n",
    "    when employees between 50 and 99 then 50\n",
    "    when employees between 100 and 249 then 100\n",
    "    when employees between 250 and 499 then 250\n",
    "    when employees between 500 and 999 then 500\n",
    "    when employees >= 1000 then 1000\n",
    "    else -1\n",
    "  end as size,\n",
    "  count(*) as est,\n",
    "  sum(employees) as emp\n",
    "from\n",
    "  `{table}`\n",
    "group by\n",
    "  year,\n",
    "  size\n",
    "order by\n",
    "  year,\n",
    "  size;\n",
    "'''\n",
    "\n",
    "query = query.format(table=table)\n",
    "\n",
    "df = pd.read_gbq(query, project_id, dialect='standard', verbose=False)\n",
    "\n",
    "df['size'] = df['size'].astype('category', categories=[-1, 1, 2, 3, 5, 10, 20, 50, 100, 250, 500, 1000], ordered=True)\n",
    "df['size'].cat.categories = ['null', '1', '2', '3-4', '5-9', '10-19', '20-49', '50-99', '100-249', '250-499', '500-999', '1000+']\n",
    "\n",
    "df = df.set_index(['size', 'year'])\n",
    "df = df.unstack()\n",
    "df = df.sort_index(1)\n",
    "df = df.astype(float) # int with missing values\n",
    "ig_by_size = df"
   ]
  },
  {
   "cell_type": "markdown",
   "metadata": {},
   "source": [
    "### Distribution"
   ]
  },
  {
   "cell_type": "code",
   "execution_count": 34,
   "metadata": {
    "ExecuteTime": {
     "end_time": "2017-09-14T19:51:46.189941Z",
     "start_time": "2017-09-14T19:51:46.154127Z"
    },
    "collapsed": true
   },
   "outputs": [],
   "source": [
    "def plot_distribution(y):\n",
    "    fig, (ax1, ax2) = plt.subplots(1, 2, figsize=(16, 6))\n",
    "\n",
    "    def add_labels(ax, x):\n",
    "        rects = ax.patches\n",
    "        shares = x / x.sum()\n",
    "        labels = ['%3.1f%%' % (x * 100) for x in shares]\n",
    "        for rect, label in zip(rects, labels):\n",
    "            ax.text(rect.get_x() + rect.get_width() + 2, rect.get_y() + rect.get_height() / 2, label, ha='left', va='center')\n",
    "\n",
    "\n",
    "    ax1.set_title('Establishments, %d' % y)\n",
    "    x = ig_by_size['est'].loc[:, y]\n",
    "    x.plot('barh', ax=ax1)\n",
    "    add_labels(ax1, x)\n",
    "\n",
    "    ax2.set_title('Employment, %d' % y)\n",
    "    x = ig_by_size['emp'].loc[:, y]\n",
    "    x.plot('barh', ax=ax2)\n",
    "    add_labels(ax2, x)\n",
    "\n",
    "    plt.show()"
   ]
  },
  {
   "cell_type": "code",
   "execution_count": 41,
   "metadata": {
    "ExecuteTime": {
     "end_time": "2017-09-14T20:01:18.485869Z",
     "start_time": "2017-09-14T20:01:17.122068Z"
    }
   },
   "outputs": [
    {
     "data": {
      "image/png": "[encoded data removed]",
      "text/plain": [
       "<matplotlib.figure.Figure at 0x7f29efdd7908>"
      ]
     },
     "metadata": {},
     "output_type": "display_data"
    },
    {
     "data": {
      "image/png": "[encoded data removed]",
      "text/plain": [
       "<matplotlib.figure.Figure at 0x7f29efdd7940>"
      ]
     },
     "metadata": {},
     "output_type": "display_data"
    }
   ],
   "source": [
    "plot_distribution(1997)\n",
    "plot_distribution(2015)"
   ]
  },
  {
   "cell_type": "markdown",
   "metadata": {},
   "source": [
    "### Evolution over time"
   ]
  },
  {
   "cell_type": "code",
   "execution_count": 42,
   "metadata": {
    "ExecuteTime": {
     "end_time": "2017-09-14T20:04:21.046571Z",
     "start_time": "2017-09-14T20:04:19.865240Z"
    }
   },
   "outputs": [
    {
     "data": {
      "image/png": "[encoded data removed]",
      "text/plain": [
       "<matplotlib.figure.Figure at 0x7f29efe6f4a8>"
      ]
     },
     "metadata": {},
     "output_type": "display_data"
    }
   ],
   "source": [
    "fig, (ax1, ax2) = plt.subplots(1, 2, figsize=(20,10))\n",
    "ax1.set_title('Establishments')\n",
    "sns.heatmap(ig_by_size['est'], ax=ax1)\n",
    "ax2.set_title('Employment')\n",
    "sns.heatmap(ig_by_size['emp'], ax=ax2)\n",
    "plt.show()"
   ]
  },
  {
   "cell_type": "markdown",
   "metadata": {},
   "source": [
    "# Prepare data for comparison"
   ]
  },
  {
   "cell_type": "markdown",
   "metadata": {},
   "source": [
    "## Get CBP and BDS to local disk"
   ]
  },
  {
   "cell_type": "code",
   "execution_count": 33,
   "metadata": {
    "ExecuteTime": {
     "end_time": "2017-09-18T15:54:52.562204Z",
     "start_time": "2017-09-18T15:54:41.841865Z"
    }
   },
   "outputs": [],
   "source": [
    "# download all years of CBP from GCS to disk\n",
    "for geo in ['us', 'state']:\n",
    "    for t in meta['cbp'][geo]:\n",
    "        file_name = os.path.join(tmpdir, t['name'])\n",
    "        gs_download(census_bucket_name, t['obj_name'], file_name)\n",
    "    \n",
    "\n",
    "# download BDS files\n",
    "names = ['bds_e_st.csv', 'bds_e_sic.csv', 'bds_e_sz.csv']\n",
    "for t in meta['bds']['estab']:\n",
    "    name = t['name']\n",
    "    if name not in names: continue\n",
    "    file_name = os.path.join(tmpdir, name)\n",
    "    gs_download(census_bucket_name, t['obj_name'], file_name)"
   ]
  },
  {
   "cell_type": "markdown",
   "metadata": {},
   "source": [
    "## Read CBP into pandas\n",
    "\n",
    "- Only need IG years (1997-2015)\n",
    "  - NAICS years for industry table (1998-2015)\n",
    "- Only keep `lfo == '-'` (all forms):\n",
    "  - by state and by NAICS: since 2010\n",
    "  - US file (for size): since 2008\n",
    "- Create three tables:\n",
    "  - rows: size, columns: (est, emp), year\n",
    "  - rows: state, columns: (est, emp), year\n",
    "  - rows: 2-digit NAICS, columns: (est, emp), year\n",
    "- For size table, keep `sic == '----'` (in 1997) or `naics == '------'` (1998-2015)\n",
    "- Some 2-digit NAICS codes in CSV files are labelled by first number in range (e.g. \"31\" means \"31-33\" etc)\n",
    "- \"92\" is labelled as \"95\", and it is only reported in 1998-2002"
   ]
  },
  {
   "cell_type": "code",
   "execution_count": 28,
   "metadata": {
    "ExecuteTime": {
     "end_time": "2017-09-06T17:57:32.413153Z",
     "start_time": "2017-09-06T17:56:55.292613Z"
    },
    "collapsed": true
   },
   "outputs": [],
   "source": [
    "years = list(range(1997, 2016))\n",
    "\n",
    "cbp_by_state = {}\n",
    "cbp_by_naics = {}\n",
    "for t in meta['cbp']['state']:\n",
    "    y = t['year']\n",
    "    if y not in years: continue\n",
    "\n",
    "    file_name = os.path.join(tmpdir, t['name'])\n",
    "    df = pd.read_csv(file_name, dtype='object')\n",
    "    df.columns = df.columns.str.lower()\n",
    "    if y >= 2010: df = df[df.lfo == '-']\n",
    "    if y == 1997:\n",
    "        df = df[['fipstate', 'sic', 'emp', 'est']]\n",
    "        df.columns = ['state', 'sic', 'emp', 'est']\n",
    "    else:\n",
    "        df = df[['fipstate', 'naics', 'emp', 'est']]\n",
    "        df.columns = ['state', 'naics', 'emp', 'est']\n",
    "\n",
    "    df.emp = pd.to_numeric(df.emp)\n",
    "    df.est = pd.to_numeric(df.est)\n",
    "    \n",
    "    if y == 1997: df1 = df.loc[df.sic == '----', ['state', 'emp', 'est']]\n",
    "    else: df1 = df.loc[df.naics == '------', ['state', 'emp', 'est']]\n",
    "    df1.state = df1.state.map(state_codes['numcode_to_strcode'])\n",
    "    df1 = df1.set_index('state')\n",
    "    cbp_by_state[y] = df1\n",
    "    \n",
    "    if y == 1997: continue\n",
    "    df2 = df.loc[(df.naics.str[2:] == '----') & (df.naics != '------'), ['naics', 'emp', 'est']]\n",
    "    df2.naics = df2.naics.str[:2]\n",
    "    df2.naics = df2.naics.replace({'31': '31-33', '44': '44-45', '48': '48-49', '95': '92'})\n",
    "    df2 = df2.groupby('naics').sum()\n",
    "    cbp_by_naics[y] = df2\n",
    "\n",
    "df = pd.concat(cbp_by_state, axis=1)\n",
    "df = df.swaplevel(0, 1, axis=1)\n",
    "df = df.sort_index(1)\n",
    "cbp_by_state = df\n",
    "\n",
    "df = pd.concat(cbp_by_naics, axis=1)\n",
    "df = df.swaplevel(0, 1, axis=1)\n",
    "df = df.sort_index(1)\n",
    "cbp_by_naics = df"
   ]
  },
  {
   "cell_type": "code",
   "execution_count": 136,
   "metadata": {
    "ExecuteTime": {
     "end_time": "2017-09-18T17:12:20.004887Z",
     "start_time": "2017-09-18T17:12:17.924431Z"
    },
    "collapsed": true
   },
   "outputs": [],
   "source": [
    "# By size\n",
    "size_groups = ['1-4', '5-9', '10-19', '20-49', '50-99', '100-249', '250-499', '500-999', '1000+']\n",
    "col_names = pd.MultiIndex.from_product([size_groups, ['emp', 'est']])\n",
    "\n",
    "years = list(range(1997, 2016))\n",
    "cbp_by_size = {}\n",
    "for t in meta['cbp']['us']:\n",
    "    y = t['year']\n",
    "    if y not in years: continue\n",
    "        \n",
    "    file_name = os.path.join(tmpdir, t['name'])\n",
    "    df = pd.read_csv(file_name, dtype='object')\n",
    "    df.columns = df.columns.str.lower()\n",
    "    \n",
    "    if y >= 2008: df = df[df.lfo == '-']\n",
    "    if y == 1997: df = df[df.sic == '----']\n",
    "    else: df = df[df.naics == '------']\n",
    "    df = df[['e1_4', 'n1_4', 'e5_9', 'n5_9', 'e10_19', 'n10_19', 'e20_49', 'n20_49', 'e50_99', 'n50_99', 'e100_249', 'n100_249', 'e250_499', 'n250_499', 'e500_999', 'n500_999', 'e1000', 'n1000']]\n",
    "    df.columns = col_names\n",
    "    df = df.swaplevel(0, 1, axis=1)\n",
    "    df = df.stack()\n",
    "    df.index = df.index.droplevel()\n",
    "    \n",
    "    cbp_by_size[y] = df\n",
    "\n",
    "df = pd.concat(cbp_by_size, axis=1)\n",
    "df = df.swaplevel(0, 1, axis=1)\n",
    "df = df.sort_index(1)\n",
    "\n",
    "size_index = pd.CategoricalIndex(df.index)\n",
    "size_index = size_index.reorder_categories(size_groups, ordered=True)\n",
    "df.index = size_index\n",
    "df = df.sort_index()\n",
    "\n",
    "df = df.astype(int)\n",
    "\n",
    "cbp_by_size = df"
   ]
  },
  {
   "cell_type": "markdown",
   "metadata": {},
   "source": [
    "## Read BDS into pandas\n",
    "\n",
    "- Only need IG years (1997-2015)\n",
    "- Create three tables:\n",
    "  - rows: size, columns: (est, emp), year\n",
    "  - rows: state, columns: (est, emp), year\n",
    "  - rows: 2-digit SIC, columns: (est, emp), year"
   ]
  },
  {
   "cell_type": "code",
   "execution_count": null,
   "metadata": {
    "collapsed": true
   },
   "outputs": [],
   "source": [
    "# By state\n",
    "file_name = os.path.join(tmpdir, 'bds_e_st.csv')\n",
    "df = pd.read_csv(file_name, dtype='object')\n",
    "df = df[['year2', 'state', 'estabs', 'emp']]\n",
    "df.columns = ['year', 'state', 'est', 'emp']\n",
    "\n",
    "df.year = pd.to_numeric(df.year, downcast='integer')\n",
    "df.state = df.state.map(state_codes['numcode_to_strcode'])\n",
    "df.est = pd.to_numeric(df.est)\n",
    "df.emp = pd.to_numeric(df.emp)\n",
    "\n",
    "df = df[df.year >= 1997]\n",
    "df = df.set_index(['state', 'year'])\n",
    "df = df.unstack('year')\n",
    "df = df.sort_index(1)\n",
    "bds_by_state = df\n",
    "\n",
    "# By SIC\n",
    "file_name = os.path.join(tmpdir, 'bds_e_sic.csv')\n",
    "df = pd.read_csv(file_name, dtype='object')\n",
    "df = df[['year2', 'sic1', 'estabs', 'emp']]\n",
    "df.columns = ['year', 'sic', 'est', 'emp']\n",
    "\n",
    "df.year = pd.to_numeric(df.year, downcast='integer')\n",
    "df.est = pd.to_numeric(df.est)\n",
    "df.emp = pd.to_numeric(df.emp)\n",
    "\n",
    "df = df[df.year >= 1997]\n",
    "df = df.set_index(['sic', 'year'])\n",
    "df = df.unstack('year')\n",
    "df = df.sort_index(1)\n",
    "bds_by_sic = df"
   ]
  },
  {
   "cell_type": "code",
   "execution_count": 135,
   "metadata": {
    "ExecuteTime": {
     "end_time": "2017-09-18T17:10:54.918182Z",
     "start_time": "2017-09-18T17:10:54.713628Z"
    },
    "collapsed": true
   },
   "outputs": [],
   "source": [
    "# By size\n",
    "size_groups = ['1-4', '5-9', '10-19', '20-49', '50-99', '100-249', '250-499', '500-999', '1000+']\n",
    "\n",
    "file_name = os.path.join(tmpdir, 'bds_e_sz.csv')\n",
    "df = pd.read_csv(file_name, dtype='object')\n",
    "\n",
    "df = df[['year2', 'size', 'Estabs', 'Emp']]\n",
    "df.columns = ['year', 'size', 'est', 'emp']\n",
    "\n",
    "rename = {\n",
    "    'a) 1 to 4': '1-4',\n",
    "    'b) 5 to 9': '5-9',\n",
    "    'c) 10 to 19': '10-19',\n",
    "    'd) 20 to 49': '20-49',\n",
    "    'e) 50 to 99': '50-99',\n",
    "    'f) 100 to 249': '100-249',\n",
    "    'g) 250 to 499': '250-499',\n",
    "    'h) 500 to 999': '500-999',\n",
    "    'i) 1000+': '1000+'\n",
    "}\n",
    "df.loc[:, 'size'] = df['size'].map(rename)\n",
    "\n",
    "df.year = pd.to_numeric(df.year, downcast='integer')\n",
    "df.est = pd.to_numeric(df.est)\n",
    "df.emp = pd.to_numeric(df.emp)\n",
    "\n",
    "df = df[df.year >= 1997]\n",
    "\n",
    "df = df.set_index(['size', 'year'])\n",
    "df = df.unstack('year')\n",
    "df = df.sort_index(1)\n",
    "\n",
    "size_index = pd.CategoricalIndex(df.index)\n",
    "size_index = size_index.reorder_categories(size_groups, ordered=True)\n",
    "df.index = size_index\n",
    "df = df.sort_index()\n",
    "\n",
    "bds_by_size = df"
   ]
  },
  {
   "cell_type": "markdown",
   "metadata": {},
   "source": [
    "## Query IG into pandas\n",
    "- Exclude PR and VI: not all years, and not in CBP nor BDS.\n",
    "- For NAICS drop 1997 (not in CBP)\n",
    "- For SIC drop 2015 (not in BDS)"
   ]
  },
  {
   "cell_type": "code",
   "execution_count": 30,
   "metadata": {
    "ExecuteTime": {
     "end_time": "2017-09-06T17:57:33.401041Z",
     "start_time": "2017-09-06T17:57:32.602820Z"
    },
    "collapsed": true
   },
   "outputs": [],
   "source": [
    "# by year and state\n",
    "query = '''\n",
    "SELECT\n",
    "  year,\n",
    "  state,\n",
    "  COUNT(*) as est,\n",
    "  SUM(employees) as emp\n",
    "FROM\n",
    "  `original.data`\n",
    "WHERE\n",
    "  state != 'PR' and state != 'VI'\n",
    "GROUP BY\n",
    "  year, state;\n",
    "'''\n",
    "\n",
    "df = pd.read_gbq(query, project_id, dialect='standard', verbose=False)\n",
    "\n",
    "df = df.set_index(['state', 'year'])\n",
    "df = df.unstack()\n",
    "df = df.astype(int)\n",
    "df = df.sort_index(1)\n",
    "ig_by_state = df"
   ]
  },
  {
   "cell_type": "code",
   "execution_count": 31,
   "metadata": {
    "ExecuteTime": {
     "end_time": "2017-09-06T17:57:34.125084Z",
     "start_time": "2017-09-06T17:57:33.403432Z"
    },
    "collapsed": true
   },
   "outputs": [],
   "source": [
    "# by year and naics\n",
    "query = '''\n",
    "SELECT\n",
    "  substr(naics, 1, 2) as naics,\n",
    "  year,\n",
    "  COUNT(*) as est,\n",
    "  SUM(employees) as emp\n",
    "FROM\n",
    "  `original.data`\n",
    "WHERE\n",
    "  state != 'PR' and state != 'VI' and year > 1997\n",
    "GROUP BY\n",
    "  year, naics;\n",
    "'''\n",
    "\n",
    "df = pd.read_gbq(query, project_id, dialect='standard', verbose=False)\n",
    "\n",
    "# naics = \"99\" is \"unknown industry\"\n",
    "df = df.fillna({'naics': '99', 'emp': 0})\n",
    "df.naics = df.naics.replace({'31': '31-33', '32': '31-33', '33': '31-33', \n",
    "                             '44': '44-45', '45': '44-45', \n",
    "                             '48': '48-49', '49': '48-49'})\n",
    "df = df.groupby(['naics', 'year']).sum()\n",
    "df = df.unstack('year')\n",
    "df = df.sort_index(1)\n",
    "ig_by_naics = df"
   ]
  },
  {
   "cell_type": "code",
   "execution_count": 32,
   "metadata": {
    "ExecuteTime": {
     "end_time": "2017-09-06T17:57:34.961641Z",
     "start_time": "2017-09-06T17:57:34.127659Z"
    },
    "collapsed": true
   },
   "outputs": [],
   "source": [
    "query = '''\n",
    "SELECT\n",
    "  substr(sic, 1, 2) as sic,\n",
    "  year,\n",
    "  COUNT(*) as est,\n",
    "  SUM(employees) as emp\n",
    "FROM\n",
    "  `original.data`\n",
    "WHERE\n",
    "  state != 'PR' and state != 'VI' and year <= 2014\n",
    "GROUP BY\n",
    "  year, sic\n",
    "ORDER BY\n",
    "  year, sic;\n",
    "'''\n",
    "df = pd.read_gbq(query, project_id, dialect='standard', verbose=False)\n",
    "\n",
    "\n",
    "# group sic codes into bins that are BDS industry SIC codes\n",
    "df = df[df.sic.notnull()]\n",
    "df.sic = df.sic.astype(int)\n",
    "df = df[df.sic.between(7, 89)] # only these are in BDS\n",
    "\n",
    "sic_int_bins = [int(x) for x in bds_by_sic.index ]\n",
    "sic_int_bins.sort()\n",
    "sic_bin_labels = ['%02d' % x for x in sic_int_bins]\n",
    "sic_int_bins += [90]\n",
    "\n",
    "df.sic = pd.cut(df.sic, sic_int_bins, right=False, labels=sic_bin_labels).astype('object')\n",
    "\n",
    "df = df.pivot_table(['est', 'emp'], 'sic', columns='year', aggfunc='sum')\n",
    "df = df.sort_index(1)\n",
    "df = df.astype(int)\n",
    "\n",
    "ig_by_sic = df"
   ]
  },
  {
   "cell_type": "markdown",
   "metadata": {},
   "source": [
    "# Compare"
   ]
  },
  {
   "cell_type": "markdown",
   "metadata": {},
   "source": [
    "## By year "
   ]
  },
  {
   "cell_type": "code",
   "execution_count": 23,
   "metadata": {
    "ExecuteTime": {
     "end_time": "2017-09-06T18:13:27.076950Z",
     "start_time": "2017-09-06T18:13:27.072115Z"
    },
    "collapsed": true
   },
   "outputs": [],
   "source": [
    "ig_by_year = ig_by_state.sum()\n",
    "cbp_by_year = cbp_by_state.sum()\n",
    "bds_by_year = bds_by_state.sum()"
   ]
  },
  {
   "cell_type": "code",
   "execution_count": 27,
   "metadata": {
    "ExecuteTime": {
     "end_time": "2017-09-06T18:17:01.112798Z",
     "start_time": "2017-09-06T18:17:01.103852Z"
    },
    "collapsed": true
   },
   "outputs": [],
   "source": [
    "cmp_by_year = {}\n",
    "for v in ['est', 'emp']:\n",
    "    cmp_by_year[v] = pd.DataFrame({\n",
    "        'ig': ig_by_year[v],\n",
    "        'cbp': cbp_by_year[v],\n",
    "        'bds': bds_by_year[v]})"
   ]
  },
  {
   "cell_type": "code",
   "execution_count": 43,
   "metadata": {
    "ExecuteTime": {
     "end_time": "2017-09-06T19:13:43.228965Z",
     "start_time": "2017-09-06T19:13:42.844088Z"
    }
   },
   "outputs": [
    {
     "data": {
      "image/png": "[encoded data removed]",
      "text/plain": [
       "<matplotlib.figure.Figure at 0x7feb7ca9add8>"
      ]
     },
     "metadata": {},
     "output_type": "display_data"
    }
   ],
   "source": [
    "# absolute values\n",
    "fig = plt.figure(figsize=(16, 4))\n",
    "ax = fig.add_subplot(121)\n",
    "cmp_by_year['est'].plot(ax=ax)\n",
    "ax.set_ylim(bottom=0)\n",
    "ax.set_title('Establishments')\n",
    "ax = fig.add_subplot(122)\n",
    "cmp_by_year['emp'].plot(ax=ax)\n",
    "ax.set_ylim(bottom=0)\n",
    "ax.set_title('Employment')\n",
    "plt.show()"
   ]
  },
  {
   "cell_type": "code",
   "execution_count": 61,
   "metadata": {
    "ExecuteTime": {
     "end_time": "2017-09-06T19:26:07.453269Z",
     "start_time": "2017-09-06T19:26:07.406275Z"
    }
   },
   "outputs": [
    {
     "data": {
      "text/html": [
       "<div>\n",
       "<style>\n",
       "    .dataframe thead tr:only-child th {\n",
       "        text-align: right;\n",
       "    }\n",
       "\n",
       "    .dataframe thead th {\n",
       "        text-align: left;\n",
       "    }\n",
       "\n",
       "    .dataframe tbody tr th {\n",
       "        vertical-align: top;\n",
       "    }\n",
       "</style>\n",
       "<table border=\"1\" class=\"dataframe\">\n",
       "  <thead>\n",
       "    <tr style=\"text-align: right;\">\n",
       "      <th>year</th>\n",
       "      <th>1997</th>\n",
       "      <th>1998</th>\n",
       "      <th>1999</th>\n",
       "      <th>2000</th>\n",
       "      <th>2001</th>\n",
       "      <th>2002</th>\n",
       "      <th>2003</th>\n",
       "      <th>2004</th>\n",
       "      <th>2005</th>\n",
       "      <th>2006</th>\n",
       "      <th>2007</th>\n",
       "      <th>2008</th>\n",
       "      <th>2009</th>\n",
       "      <th>2010</th>\n",
       "      <th>2011</th>\n",
       "      <th>2012</th>\n",
       "      <th>2013</th>\n",
       "      <th>2014</th>\n",
       "      <th>2015</th>\n",
       "    </tr>\n",
       "  </thead>\n",
       "  <tbody>\n",
       "    <tr>\n",
       "      <th>bds</th>\n",
       "      <td>1.000000</td>\n",
       "      <td>1.000000</td>\n",
       "      <td>1.000000</td>\n",
       "      <td>1.000000</td>\n",
       "      <td>1.000000</td>\n",
       "      <td>1.000000</td>\n",
       "      <td>1.000000</td>\n",
       "      <td>1.000000</td>\n",
       "      <td>1.000000</td>\n",
       "      <td>1.000000</td>\n",
       "      <td>1.000000</td>\n",
       "      <td>1.000000</td>\n",
       "      <td>1.000000</td>\n",
       "      <td>1.000000</td>\n",
       "      <td>1.000000</td>\n",
       "      <td>1.000000</td>\n",
       "      <td>1.000000</td>\n",
       "      <td>1.000000</td>\n",
       "      <td>NaN</td>\n",
       "    </tr>\n",
       "    <tr>\n",
       "      <th>cbp</th>\n",
       "      <td>1.141244</td>\n",
       "      <td>1.136462</td>\n",
       "      <td>1.135219</td>\n",
       "      <td>1.136914</td>\n",
       "      <td>1.124749</td>\n",
       "      <td>1.133533</td>\n",
       "      <td>1.130901</td>\n",
       "      <td>1.137026</td>\n",
       "      <td>1.130642</td>\n",
       "      <td>1.128377</td>\n",
       "      <td>1.126000</td>\n",
       "      <td>1.113305</td>\n",
       "      <td>1.117602</td>\n",
       "      <td>1.124426</td>\n",
       "      <td>1.122085</td>\n",
       "      <td>1.121767</td>\n",
       "      <td>1.121959</td>\n",
       "      <td>1.125238</td>\n",
       "      <td>NaN</td>\n",
       "    </tr>\n",
       "    <tr>\n",
       "      <th>ig</th>\n",
       "      <td>1.864413</td>\n",
       "      <td>1.763872</td>\n",
       "      <td>1.785016</td>\n",
       "      <td>1.796098</td>\n",
       "      <td>1.989332</td>\n",
       "      <td>2.022659</td>\n",
       "      <td>1.972807</td>\n",
       "      <td>1.927532</td>\n",
       "      <td>1.974274</td>\n",
       "      <td>1.964026</td>\n",
       "      <td>1.984903</td>\n",
       "      <td>2.016264</td>\n",
       "      <td>2.038373</td>\n",
       "      <td>2.086305</td>\n",
       "      <td>2.039552</td>\n",
       "      <td>2.206838</td>\n",
       "      <td>2.375169</td>\n",
       "      <td>2.354762</td>\n",
       "      <td>NaN</td>\n",
       "    </tr>\n",
       "  </tbody>\n",
       "</table>\n",
       "</div>"
      ],
      "text/plain": [
       "year      1997      1998      1999      2000      2001      2002      2003  \\\n",
       "bds   1.000000  1.000000  1.000000  1.000000  1.000000  1.000000  1.000000   \n",
       "cbp   1.141244  1.136462  1.135219  1.136914  1.124749  1.133533  1.130901   \n",
       "ig    1.864413  1.763872  1.785016  1.796098  1.989332  2.022659  1.972807   \n",
       "\n",
       "year      2004      2005      2006      2007      2008      2009      2010  \\\n",
       "bds   1.000000  1.000000  1.000000  1.000000  1.000000  1.000000  1.000000   \n",
       "cbp   1.137026  1.130642  1.128377  1.126000  1.113305  1.117602  1.124426   \n",
       "ig    1.927532  1.974274  1.964026  1.984903  2.016264  2.038373  2.086305   \n",
       "\n",
       "year      2011      2012      2013      2014  2015  \n",
       "bds   1.000000  1.000000  1.000000  1.000000   NaN  \n",
       "cbp   1.122085  1.121767  1.121959  1.125238   NaN  \n",
       "ig    2.039552  2.206838  2.375169  2.354762   NaN  "
      ]
     },
     "metadata": {},
     "output_type": "display_data"
    },
    {
     "data": {
      "text/html": [
       "<div>\n",
       "<style>\n",
       "    .dataframe thead tr:only-child th {\n",
       "        text-align: right;\n",
       "    }\n",
       "\n",
       "    .dataframe thead th {\n",
       "        text-align: left;\n",
       "    }\n",
       "\n",
       "    .dataframe tbody tr th {\n",
       "        vertical-align: top;\n",
       "    }\n",
       "</style>\n",
       "<table border=\"1\" class=\"dataframe\">\n",
       "  <thead>\n",
       "    <tr style=\"text-align: right;\">\n",
       "      <th>year</th>\n",
       "      <th>1997</th>\n",
       "      <th>1998</th>\n",
       "      <th>1999</th>\n",
       "      <th>2000</th>\n",
       "      <th>2001</th>\n",
       "      <th>2002</th>\n",
       "      <th>2003</th>\n",
       "      <th>2004</th>\n",
       "      <th>2005</th>\n",
       "      <th>2006</th>\n",
       "      <th>2007</th>\n",
       "      <th>2008</th>\n",
       "      <th>2009</th>\n",
       "      <th>2010</th>\n",
       "      <th>2011</th>\n",
       "      <th>2012</th>\n",
       "      <th>2013</th>\n",
       "      <th>2014</th>\n",
       "      <th>2015</th>\n",
       "    </tr>\n",
       "  </thead>\n",
       "  <tbody>\n",
       "    <tr>\n",
       "      <th>bds</th>\n",
       "      <td>1.000000</td>\n",
       "      <td>1.000000</td>\n",
       "      <td>1.000000</td>\n",
       "      <td>1.000000</td>\n",
       "      <td>1.000000</td>\n",
       "      <td>1.000000</td>\n",
       "      <td>1.000000</td>\n",
       "      <td>1.000000</td>\n",
       "      <td>1.000000</td>\n",
       "      <td>1.000000</td>\n",
       "      <td>1.000000</td>\n",
       "      <td>1.000000</td>\n",
       "      <td>1.000000</td>\n",
       "      <td>1.000000</td>\n",
       "      <td>1.000000</td>\n",
       "      <td>1.000000</td>\n",
       "      <td>1.000000</td>\n",
       "      <td>1.000000</td>\n",
       "      <td>NaN</td>\n",
       "    </tr>\n",
       "    <tr>\n",
       "      <th>cbp</th>\n",
       "      <td>1.020492</td>\n",
       "      <td>1.017376</td>\n",
       "      <td>1.015073</td>\n",
       "      <td>1.012972</td>\n",
       "      <td>1.009252</td>\n",
       "      <td>1.005156</td>\n",
       "      <td>1.008798</td>\n",
       "      <td>1.012025</td>\n",
       "      <td>1.010222</td>\n",
       "      <td>1.010981</td>\n",
       "      <td>1.008169</td>\n",
       "      <td>1.009375</td>\n",
       "      <td>1.010374</td>\n",
       "      <td>1.010628</td>\n",
       "      <td>1.011634</td>\n",
       "      <td>1.010264</td>\n",
       "      <td>1.009146</td>\n",
       "      <td>1.016516</td>\n",
       "      <td>NaN</td>\n",
       "    </tr>\n",
       "    <tr>\n",
       "      <th>ig</th>\n",
       "      <td>1.250469</td>\n",
       "      <td>1.140359</td>\n",
       "      <td>1.139408</td>\n",
       "      <td>1.118038</td>\n",
       "      <td>1.150262</td>\n",
       "      <td>1.165181</td>\n",
       "      <td>1.252478</td>\n",
       "      <td>1.241513</td>\n",
       "      <td>1.253444</td>\n",
       "      <td>1.261580</td>\n",
       "      <td>1.319716</td>\n",
       "      <td>1.349308</td>\n",
       "      <td>1.380425</td>\n",
       "      <td>1.396416</td>\n",
       "      <td>1.284807</td>\n",
       "      <td>1.344935</td>\n",
       "      <td>1.374984</td>\n",
       "      <td>1.366253</td>\n",
       "      <td>NaN</td>\n",
       "    </tr>\n",
       "  </tbody>\n",
       "</table>\n",
       "</div>"
      ],
      "text/plain": [
       "year      1997      1998      1999      2000      2001      2002      2003  \\\n",
       "bds   1.000000  1.000000  1.000000  1.000000  1.000000  1.000000  1.000000   \n",
       "cbp   1.020492  1.017376  1.015073  1.012972  1.009252  1.005156  1.008798   \n",
       "ig    1.250469  1.140359  1.139408  1.118038  1.150262  1.165181  1.252478   \n",
       "\n",
       "year      2004      2005      2006      2007      2008      2009      2010  \\\n",
       "bds   1.000000  1.000000  1.000000  1.000000  1.000000  1.000000  1.000000   \n",
       "cbp   1.012025  1.010222  1.010981  1.008169  1.009375  1.010374  1.010628   \n",
       "ig    1.241513  1.253444  1.261580  1.319716  1.349308  1.380425  1.396416   \n",
       "\n",
       "year      2011      2012      2013      2014  2015  \n",
       "bds   1.000000  1.000000  1.000000  1.000000   NaN  \n",
       "cbp   1.011634  1.010264  1.009146  1.016516   NaN  \n",
       "ig    1.284807  1.344935  1.374984  1.366253   NaN  "
      ]
     },
     "metadata": {},
     "output_type": "display_data"
    }
   ],
   "source": [
    "# ratio\n",
    "basis = 'bds'\n",
    "df = cmp_by_year['est']\n",
    "disp(df.apply(lambda x: x / df[basis], axis=0).T)\n",
    "df = cmp_by_year['emp']\n",
    "disp(df.apply(lambda x: x / df[basis], axis=0).T)"
   ]
  },
  {
   "cell_type": "markdown",
   "metadata": {},
   "source": [
    "## By year and size"
   ]
  },
  {
   "cell_type": "code",
   "execution_count": 84,
   "metadata": {
    "ExecuteTime": {
     "end_time": "2017-09-18T16:45:26.131667Z",
     "start_time": "2017-09-18T16:45:26.106884Z"
    },
    "collapsed": true
   },
   "outputs": [],
   "source": [
    "df = ig_by_size\n",
    "df = df.reset_index()\n",
    "\n",
    "new_size = df['size'].copy()\n",
    "new_size[(new_size == '2') | (new_size == '3-4')] = '1'\n",
    "new_size = new_size.cat.remove_unused_categories()\n",
    "new_size.cat.categories = ['null', '1-4', '5-9', '10-19', '20-49', '50-99', '100-249', '250-499', '500-999', '1000+']\n",
    "\n",
    "df = df.groupby(new_size).sum()\n",
    "\n",
    "df = df.reindex(columns = ig_by_size.columns)\n",
    "\n",
    "ig_by_size_cmp = df"
   ]
  },
  {
   "cell_type": "code",
   "execution_count": 143,
   "metadata": {
    "ExecuteTime": {
     "end_time": "2017-09-18T17:14:41.078217Z",
     "start_time": "2017-09-18T17:14:40.316474Z"
    },
    "scrolled": false
   },
   "outputs": [
    {
     "data": {
      "image/png": "[encoded data removed]",
      "text/plain": [
       "<matplotlib.figure.Figure at 0x7f38c213d828>"
      ]
     },
     "metadata": {},
     "output_type": "display_data"
    }
   ],
   "source": [
    "y = 2014\n",
    "fig, (ax1, ax2) = plt.subplots(1, 2, figsize=(16, 6))\n",
    "\n",
    "ax1.set_title('Establishments, %d' % y)\n",
    "df = pd.DataFrame({'cbp': cbp_by_size['est'].loc[:, y], \n",
    "                   'bds': bds_by_size['est'].loc[:, y], \n",
    "                   'ig': ig_by_size_cmp['est'].loc[:, y]})\n",
    "df = df.loc[ig_by_size_cmp.index, :]\n",
    "df.plot.barh(ax=ax1)\n",
    "\n",
    "ax2.set_title('Employment, %d' % y)\n",
    "df = pd.DataFrame({'cbp': cbp_by_size['emp'].loc[:, y],\n",
    "                   'bds': bds_by_size['emp'].loc[:, y], \n",
    "                   'ig': ig_by_size_cmp['emp'].loc[:, y]})\n",
    "df = df.loc[ig_by_size_cmp.index, :]\n",
    "df.plot.barh(ax=ax2)\n",
    "\n",
    "plt.show()"
   ]
  },
  {
   "cell_type": "code",
   "execution_count": 147,
   "metadata": {
    "ExecuteTime": {
     "end_time": "2017-09-18T17:19:35.369715Z",
     "start_time": "2017-09-18T17:19:35.298973Z"
    }
   },
   "outputs": [
    {
     "data": {
      "text/html": [
       "<div>\n",
       "<style>\n",
       "    .dataframe thead tr:only-child th {\n",
       "        text-align: right;\n",
       "    }\n",
       "\n",
       "    .dataframe thead th {\n",
       "        text-align: left;\n",
       "    }\n",
       "\n",
       "    .dataframe tbody tr th {\n",
       "        vertical-align: top;\n",
       "    }\n",
       "</style>\n",
       "<table border=\"1\" class=\"dataframe\">\n",
       "  <thead>\n",
       "    <tr style=\"text-align: right;\">\n",
       "      <th>year</th>\n",
       "      <th>1997</th>\n",
       "      <th>1998</th>\n",
       "      <th>1999</th>\n",
       "      <th>2000</th>\n",
       "      <th>2001</th>\n",
       "      <th>2002</th>\n",
       "      <th>2003</th>\n",
       "      <th>2004</th>\n",
       "      <th>2005</th>\n",
       "      <th>2006</th>\n",
       "      <th>2007</th>\n",
       "      <th>2008</th>\n",
       "      <th>2009</th>\n",
       "      <th>2010</th>\n",
       "      <th>2011</th>\n",
       "      <th>2012</th>\n",
       "      <th>2013</th>\n",
       "      <th>2014</th>\n",
       "      <th>2015</th>\n",
       "    </tr>\n",
       "  </thead>\n",
       "  <tbody>\n",
       "    <tr>\n",
       "      <th>null</th>\n",
       "      <td>NaN</td>\n",
       "      <td>NaN</td>\n",
       "      <td>NaN</td>\n",
       "      <td>NaN</td>\n",
       "      <td>NaN</td>\n",
       "      <td>NaN</td>\n",
       "      <td>NaN</td>\n",
       "      <td>NaN</td>\n",
       "      <td>NaN</td>\n",
       "      <td>NaN</td>\n",
       "      <td>NaN</td>\n",
       "      <td>NaN</td>\n",
       "      <td>NaN</td>\n",
       "      <td>NaN</td>\n",
       "      <td>NaN</td>\n",
       "      <td>NaN</td>\n",
       "      <td>NaN</td>\n",
       "      <td>NaN</td>\n",
       "      <td>NaN</td>\n",
       "    </tr>\n",
       "    <tr>\n",
       "      <th>1-4</th>\n",
       "      <td>2.333914</td>\n",
       "      <td>1.863550</td>\n",
       "      <td>1.901248</td>\n",
       "      <td>1.922065</td>\n",
       "      <td>2.014718</td>\n",
       "      <td>1.999536</td>\n",
       "      <td>2.520717</td>\n",
       "      <td>2.446182</td>\n",
       "      <td>2.471200</td>\n",
       "      <td>2.451640</td>\n",
       "      <td>2.614743</td>\n",
       "      <td>2.672887</td>\n",
       "      <td>2.723247</td>\n",
       "      <td>2.707559</td>\n",
       "      <td>2.627668</td>\n",
       "      <td>2.805626</td>\n",
       "      <td>3.123521</td>\n",
       "      <td>2.990912</td>\n",
       "      <td>NaN</td>\n",
       "    </tr>\n",
       "    <tr>\n",
       "      <th>5-9</th>\n",
       "      <td>1.428033</td>\n",
       "      <td>1.131164</td>\n",
       "      <td>1.150063</td>\n",
       "      <td>1.151691</td>\n",
       "      <td>1.186767</td>\n",
       "      <td>1.168210</td>\n",
       "      <td>1.588164</td>\n",
       "      <td>1.576582</td>\n",
       "      <td>1.637612</td>\n",
       "      <td>1.629665</td>\n",
       "      <td>1.544430</td>\n",
       "      <td>1.556362</td>\n",
       "      <td>1.552032</td>\n",
       "      <td>1.569756</td>\n",
       "      <td>1.554937</td>\n",
       "      <td>1.655438</td>\n",
       "      <td>1.880678</td>\n",
       "      <td>1.909048</td>\n",
       "      <td>NaN</td>\n",
       "    </tr>\n",
       "    <tr>\n",
       "      <th>10-19</th>\n",
       "      <td>1.200523</td>\n",
       "      <td>1.062570</td>\n",
       "      <td>1.075662</td>\n",
       "      <td>1.063606</td>\n",
       "      <td>1.092939</td>\n",
       "      <td>1.083141</td>\n",
       "      <td>1.239641</td>\n",
       "      <td>1.250580</td>\n",
       "      <td>1.276963</td>\n",
       "      <td>1.287135</td>\n",
       "      <td>1.330007</td>\n",
       "      <td>1.336917</td>\n",
       "      <td>1.336209</td>\n",
       "      <td>1.334766</td>\n",
       "      <td>1.324090</td>\n",
       "      <td>1.398887</td>\n",
       "      <td>1.373238</td>\n",
       "      <td>1.378850</td>\n",
       "      <td>NaN</td>\n",
       "    </tr>\n",
       "    <tr>\n",
       "      <th>20-49</th>\n",
       "      <td>1.259635</td>\n",
       "      <td>1.183445</td>\n",
       "      <td>1.177321</td>\n",
       "      <td>1.154662</td>\n",
       "      <td>1.181512</td>\n",
       "      <td>1.169929</td>\n",
       "      <td>1.207290</td>\n",
       "      <td>1.209628</td>\n",
       "      <td>1.222869</td>\n",
       "      <td>1.250691</td>\n",
       "      <td>1.291014</td>\n",
       "      <td>1.293550</td>\n",
       "      <td>1.301913</td>\n",
       "      <td>1.302442</td>\n",
       "      <td>1.274475</td>\n",
       "      <td>1.300018</td>\n",
       "      <td>1.303862</td>\n",
       "      <td>1.282362</td>\n",
       "      <td>NaN</td>\n",
       "    </tr>\n",
       "    <tr>\n",
       "      <th>50-99</th>\n",
       "      <td>1.362483</td>\n",
       "      <td>1.304208</td>\n",
       "      <td>1.288164</td>\n",
       "      <td>1.255223</td>\n",
       "      <td>1.270719</td>\n",
       "      <td>1.272634</td>\n",
       "      <td>1.272341</td>\n",
       "      <td>1.265721</td>\n",
       "      <td>1.267961</td>\n",
       "      <td>1.287447</td>\n",
       "      <td>1.374150</td>\n",
       "      <td>1.402426</td>\n",
       "      <td>1.400850</td>\n",
       "      <td>1.443429</td>\n",
       "      <td>1.419722</td>\n",
       "      <td>1.427292</td>\n",
       "      <td>1.409728</td>\n",
       "      <td>1.381018</td>\n",
       "      <td>NaN</td>\n",
       "    </tr>\n",
       "    <tr>\n",
       "      <th>100-249</th>\n",
       "      <td>1.228619</td>\n",
       "      <td>1.182489</td>\n",
       "      <td>1.174302</td>\n",
       "      <td>1.161983</td>\n",
       "      <td>1.183716</td>\n",
       "      <td>1.206555</td>\n",
       "      <td>1.218167</td>\n",
       "      <td>1.216659</td>\n",
       "      <td>1.214705</td>\n",
       "      <td>1.256642</td>\n",
       "      <td>1.303830</td>\n",
       "      <td>1.328002</td>\n",
       "      <td>1.341376</td>\n",
       "      <td>1.393706</td>\n",
       "      <td>1.187208</td>\n",
       "      <td>1.317410</td>\n",
       "      <td>1.329466</td>\n",
       "      <td>1.327653</td>\n",
       "      <td>NaN</td>\n",
       "    </tr>\n",
       "    <tr>\n",
       "      <th>250-499</th>\n",
       "      <td>1.152230</td>\n",
       "      <td>1.121686</td>\n",
       "      <td>1.100114</td>\n",
       "      <td>1.081458</td>\n",
       "      <td>1.096027</td>\n",
       "      <td>1.128824</td>\n",
       "      <td>1.121498</td>\n",
       "      <td>1.109165</td>\n",
       "      <td>1.094607</td>\n",
       "      <td>1.127626</td>\n",
       "      <td>1.200437</td>\n",
       "      <td>1.225744</td>\n",
       "      <td>1.220031</td>\n",
       "      <td>1.264650</td>\n",
       "      <td>1.076239</td>\n",
       "      <td>1.173676</td>\n",
       "      <td>1.159976</td>\n",
       "      <td>1.151159</td>\n",
       "      <td>NaN</td>\n",
       "    </tr>\n",
       "    <tr>\n",
       "      <th>500-999</th>\n",
       "      <td>1.149550</td>\n",
       "      <td>1.106175</td>\n",
       "      <td>1.095799</td>\n",
       "      <td>1.074408</td>\n",
       "      <td>1.078866</td>\n",
       "      <td>1.116634</td>\n",
       "      <td>1.130774</td>\n",
       "      <td>1.125389</td>\n",
       "      <td>1.091723</td>\n",
       "      <td>1.127825</td>\n",
       "      <td>1.163816</td>\n",
       "      <td>1.209581</td>\n",
       "      <td>1.202216</td>\n",
       "      <td>1.260687</td>\n",
       "      <td>1.103481</td>\n",
       "      <td>1.153174</td>\n",
       "      <td>1.148015</td>\n",
       "      <td>1.142673</td>\n",
       "      <td>NaN</td>\n",
       "    </tr>\n",
       "    <tr>\n",
       "      <th>1000+</th>\n",
       "      <td>1.265008</td>\n",
       "      <td>1.232371</td>\n",
       "      <td>1.214172</td>\n",
       "      <td>1.195197</td>\n",
       "      <td>1.184929</td>\n",
       "      <td>1.202845</td>\n",
       "      <td>1.186619</td>\n",
       "      <td>1.165231</td>\n",
       "      <td>1.159683</td>\n",
       "      <td>1.204079</td>\n",
       "      <td>1.256463</td>\n",
       "      <td>1.301956</td>\n",
       "      <td>1.265078</td>\n",
       "      <td>1.322540</td>\n",
       "      <td>1.128673</td>\n",
       "      <td>1.209320</td>\n",
       "      <td>1.225391</td>\n",
       "      <td>1.265199</td>\n",
       "      <td>NaN</td>\n",
       "    </tr>\n",
       "  </tbody>\n",
       "</table>\n",
       "</div>"
      ],
      "text/plain": [
       "year         1997      1998      1999      2000      2001      2002      2003  \\\n",
       "null          NaN       NaN       NaN       NaN       NaN       NaN       NaN   \n",
       "1-4      2.333914  1.863550  1.901248  1.922065  2.014718  1.999536  2.520717   \n",
       "5-9      1.428033  1.131164  1.150063  1.151691  1.186767  1.168210  1.588164   \n",
       "10-19    1.200523  1.062570  1.075662  1.063606  1.092939  1.083141  1.239641   \n",
       "20-49    1.259635  1.183445  1.177321  1.154662  1.181512  1.169929  1.207290   \n",
       "50-99    1.362483  1.304208  1.288164  1.255223  1.270719  1.272634  1.272341   \n",
       "100-249  1.228619  1.182489  1.174302  1.161983  1.183716  1.206555  1.218167   \n",
       "250-499  1.152230  1.121686  1.100114  1.081458  1.096027  1.128824  1.121498   \n",
       "500-999  1.149550  1.106175  1.095799  1.074408  1.078866  1.116634  1.130774   \n",
       "1000+    1.265008  1.232371  1.214172  1.195197  1.184929  1.202845  1.186619   \n",
       "\n",
       "year         2004      2005      2006      2007      2008      2009      2010  \\\n",
       "null          NaN       NaN       NaN       NaN       NaN       NaN       NaN   \n",
       "1-4      2.446182  2.471200  2.451640  2.614743  2.672887  2.723247  2.707559   \n",
       "5-9      1.576582  1.637612  1.629665  1.544430  1.556362  1.552032  1.569756   \n",
       "10-19    1.250580  1.276963  1.287135  1.330007  1.336917  1.336209  1.334766   \n",
       "20-49    1.209628  1.222869  1.250691  1.291014  1.293550  1.301913  1.302442   \n",
       "50-99    1.265721  1.267961  1.287447  1.374150  1.402426  1.400850  1.443429   \n",
       "100-249  1.216659  1.214705  1.256642  1.303830  1.328002  1.341376  1.393706   \n",
       "250-499  1.109165  1.094607  1.127626  1.200437  1.225744  1.220031  1.264650   \n",
       "500-999  1.125389  1.091723  1.127825  1.163816  1.209581  1.202216  1.260687   \n",
       "1000+    1.165231  1.159683  1.204079  1.256463  1.301956  1.265078  1.322540   \n",
       "\n",
       "year         2011      2012      2013      2014  2015  \n",
       "null          NaN       NaN       NaN       NaN   NaN  \n",
       "1-4      2.627668  2.805626  3.123521  2.990912   NaN  \n",
       "5-9      1.554937  1.655438  1.880678  1.909048   NaN  \n",
       "10-19    1.324090  1.398887  1.373238  1.378850   NaN  \n",
       "20-49    1.274475  1.300018  1.303862  1.282362   NaN  \n",
       "50-99    1.419722  1.427292  1.409728  1.381018   NaN  \n",
       "100-249  1.187208  1.317410  1.329466  1.327653   NaN  \n",
       "250-499  1.076239  1.173676  1.159976  1.151159   NaN  \n",
       "500-999  1.103481  1.153174  1.148015  1.142673   NaN  \n",
       "1000+    1.128673  1.209320  1.225391  1.265199   NaN  "
      ]
     },
     "metadata": {},
     "output_type": "display_data"
    },
    {
     "data": {
      "text/html": [
       "<div>\n",
       "<style>\n",
       "    .dataframe thead tr:only-child th {\n",
       "        text-align: right;\n",
       "    }\n",
       "\n",
       "    .dataframe thead th {\n",
       "        text-align: left;\n",
       "    }\n",
       "\n",
       "    .dataframe tbody tr th {\n",
       "        vertical-align: top;\n",
       "    }\n",
       "</style>\n",
       "<table border=\"1\" class=\"dataframe\">\n",
       "  <thead>\n",
       "    <tr style=\"text-align: right;\">\n",
       "      <th>year</th>\n",
       "      <th>1997</th>\n",
       "      <th>1998</th>\n",
       "      <th>1999</th>\n",
       "      <th>2000</th>\n",
       "      <th>2001</th>\n",
       "      <th>2002</th>\n",
       "      <th>2003</th>\n",
       "      <th>2004</th>\n",
       "      <th>2005</th>\n",
       "      <th>2006</th>\n",
       "      <th>2007</th>\n",
       "      <th>2008</th>\n",
       "      <th>2009</th>\n",
       "      <th>2010</th>\n",
       "      <th>2011</th>\n",
       "      <th>2012</th>\n",
       "      <th>2013</th>\n",
       "      <th>2014</th>\n",
       "      <th>2015</th>\n",
       "    </tr>\n",
       "  </thead>\n",
       "  <tbody>\n",
       "    <tr>\n",
       "      <th>null</th>\n",
       "      <td>NaN</td>\n",
       "      <td>NaN</td>\n",
       "      <td>NaN</td>\n",
       "      <td>NaN</td>\n",
       "      <td>NaN</td>\n",
       "      <td>NaN</td>\n",
       "      <td>NaN</td>\n",
       "      <td>NaN</td>\n",
       "      <td>NaN</td>\n",
       "      <td>NaN</td>\n",
       "      <td>NaN</td>\n",
       "      <td>NaN</td>\n",
       "      <td>NaN</td>\n",
       "      <td>NaN</td>\n",
       "      <td>NaN</td>\n",
       "      <td>NaN</td>\n",
       "      <td>NaN</td>\n",
       "      <td>NaN</td>\n",
       "      <td>NaN</td>\n",
       "    </tr>\n",
       "    <tr>\n",
       "      <th>1-4</th>\n",
       "      <td>2.384753</td>\n",
       "      <td>1.797531</td>\n",
       "      <td>1.838683</td>\n",
       "      <td>1.851010</td>\n",
       "      <td>1.980587</td>\n",
       "      <td>1.942856</td>\n",
       "      <td>2.679256</td>\n",
       "      <td>2.590027</td>\n",
       "      <td>2.686218</td>\n",
       "      <td>2.685853</td>\n",
       "      <td>2.875578</td>\n",
       "      <td>3.015295</td>\n",
       "      <td>3.124213</td>\n",
       "      <td>3.061693</td>\n",
       "      <td>2.986714</td>\n",
       "      <td>3.205875</td>\n",
       "      <td>3.492571</td>\n",
       "      <td>3.361649</td>\n",
       "      <td>NaN</td>\n",
       "    </tr>\n",
       "    <tr>\n",
       "      <th>5-9</th>\n",
       "      <td>1.332300</td>\n",
       "      <td>1.073840</td>\n",
       "      <td>1.093645</td>\n",
       "      <td>1.088849</td>\n",
       "      <td>1.131371</td>\n",
       "      <td>1.111942</td>\n",
       "      <td>1.494842</td>\n",
       "      <td>1.480743</td>\n",
       "      <td>1.541577</td>\n",
       "      <td>1.511521</td>\n",
       "      <td>1.457583</td>\n",
       "      <td>1.485324</td>\n",
       "      <td>1.514402</td>\n",
       "      <td>1.508264</td>\n",
       "      <td>1.490229</td>\n",
       "      <td>1.569152</td>\n",
       "      <td>1.760049</td>\n",
       "      <td>1.784819</td>\n",
       "      <td>NaN</td>\n",
       "    </tr>\n",
       "    <tr>\n",
       "      <th>10-19</th>\n",
       "      <td>1.095502</td>\n",
       "      <td>0.985279</td>\n",
       "      <td>0.999238</td>\n",
       "      <td>0.983088</td>\n",
       "      <td>1.020276</td>\n",
       "      <td>1.012108</td>\n",
       "      <td>1.131475</td>\n",
       "      <td>1.141586</td>\n",
       "      <td>1.167465</td>\n",
       "      <td>1.157759</td>\n",
       "      <td>1.227635</td>\n",
       "      <td>1.243749</td>\n",
       "      <td>1.270343</td>\n",
       "      <td>1.256797</td>\n",
       "      <td>1.228452</td>\n",
       "      <td>1.280065</td>\n",
       "      <td>1.266094</td>\n",
       "      <td>1.269792</td>\n",
       "      <td>NaN</td>\n",
       "    </tr>\n",
       "    <tr>\n",
       "      <th>20-49</th>\n",
       "      <td>1.158999</td>\n",
       "      <td>1.087695</td>\n",
       "      <td>1.082749</td>\n",
       "      <td>1.059169</td>\n",
       "      <td>1.093467</td>\n",
       "      <td>1.089757</td>\n",
       "      <td>1.122996</td>\n",
       "      <td>1.126319</td>\n",
       "      <td>1.139696</td>\n",
       "      <td>1.153571</td>\n",
       "      <td>1.199297</td>\n",
       "      <td>1.206364</td>\n",
       "      <td>1.247363</td>\n",
       "      <td>1.237339</td>\n",
       "      <td>1.185636</td>\n",
       "      <td>1.208511</td>\n",
       "      <td>1.190712</td>\n",
       "      <td>1.171556</td>\n",
       "      <td>NaN</td>\n",
       "    </tr>\n",
       "    <tr>\n",
       "      <th>50-99</th>\n",
       "      <td>1.226648</td>\n",
       "      <td>1.179337</td>\n",
       "      <td>1.166436</td>\n",
       "      <td>1.133017</td>\n",
       "      <td>1.163367</td>\n",
       "      <td>1.177843</td>\n",
       "      <td>1.162929</td>\n",
       "      <td>1.158931</td>\n",
       "      <td>1.160180</td>\n",
       "      <td>1.164051</td>\n",
       "      <td>1.266369</td>\n",
       "      <td>1.291375</td>\n",
       "      <td>1.330754</td>\n",
       "      <td>1.348431</td>\n",
       "      <td>1.309716</td>\n",
       "      <td>1.307121</td>\n",
       "      <td>1.283760</td>\n",
       "      <td>1.256574</td>\n",
       "      <td>NaN</td>\n",
       "    </tr>\n",
       "    <tr>\n",
       "      <th>100-249</th>\n",
       "      <td>1.117429</td>\n",
       "      <td>1.072214</td>\n",
       "      <td>1.071071</td>\n",
       "      <td>1.051240</td>\n",
       "      <td>1.088190</td>\n",
       "      <td>1.119742</td>\n",
       "      <td>1.113102</td>\n",
       "      <td>1.112582</td>\n",
       "      <td>1.106005</td>\n",
       "      <td>1.138839</td>\n",
       "      <td>1.193004</td>\n",
       "      <td>1.211462</td>\n",
       "      <td>1.274740</td>\n",
       "      <td>1.292944</td>\n",
       "      <td>1.086245</td>\n",
       "      <td>1.195654</td>\n",
       "      <td>1.206405</td>\n",
       "      <td>1.202143</td>\n",
       "      <td>NaN</td>\n",
       "    </tr>\n",
       "    <tr>\n",
       "      <th>250-499</th>\n",
       "      <td>1.065536</td>\n",
       "      <td>1.034090</td>\n",
       "      <td>1.019215</td>\n",
       "      <td>0.991407</td>\n",
       "      <td>1.021839</td>\n",
       "      <td>1.065215</td>\n",
       "      <td>1.038360</td>\n",
       "      <td>1.023301</td>\n",
       "      <td>1.012145</td>\n",
       "      <td>1.036077</td>\n",
       "      <td>1.109580</td>\n",
       "      <td>1.136119</td>\n",
       "      <td>1.161797</td>\n",
       "      <td>1.193047</td>\n",
       "      <td>0.987335</td>\n",
       "      <td>1.080098</td>\n",
       "      <td>1.074993</td>\n",
       "      <td>1.067319</td>\n",
       "      <td>NaN</td>\n",
       "    </tr>\n",
       "    <tr>\n",
       "      <th>500-999</th>\n",
       "      <td>1.057473</td>\n",
       "      <td>1.020692</td>\n",
       "      <td>1.014545</td>\n",
       "      <td>0.991138</td>\n",
       "      <td>0.995130</td>\n",
       "      <td>1.047712</td>\n",
       "      <td>1.043830</td>\n",
       "      <td>1.030882</td>\n",
       "      <td>1.004783</td>\n",
       "      <td>1.025726</td>\n",
       "      <td>1.058499</td>\n",
       "      <td>1.105378</td>\n",
       "      <td>1.122376</td>\n",
       "      <td>1.160918</td>\n",
       "      <td>0.995293</td>\n",
       "      <td>1.036760</td>\n",
       "      <td>1.030780</td>\n",
       "      <td>1.030152</td>\n",
       "      <td>NaN</td>\n",
       "    </tr>\n",
       "    <tr>\n",
       "      <th>1000+</th>\n",
       "      <td>1.285331</td>\n",
       "      <td>1.254714</td>\n",
       "      <td>1.238809</td>\n",
       "      <td>1.212932</td>\n",
       "      <td>1.199723</td>\n",
       "      <td>1.230303</td>\n",
       "      <td>1.233951</td>\n",
       "      <td>1.209908</td>\n",
       "      <td>1.208247</td>\n",
       "      <td>1.219650</td>\n",
       "      <td>1.260121</td>\n",
       "      <td>1.313340</td>\n",
       "      <td>1.252314</td>\n",
       "      <td>1.321200</td>\n",
       "      <td>1.121421</td>\n",
       "      <td>1.140955</td>\n",
       "      <td>1.197553</td>\n",
       "      <td>1.249507</td>\n",
       "      <td>NaN</td>\n",
       "    </tr>\n",
       "  </tbody>\n",
       "</table>\n",
       "</div>"
      ],
      "text/plain": [
       "year         1997      1998      1999      2000      2001      2002      2003  \\\n",
       "null          NaN       NaN       NaN       NaN       NaN       NaN       NaN   \n",
       "1-4      2.384753  1.797531  1.838683  1.851010  1.980587  1.942856  2.679256   \n",
       "5-9      1.332300  1.073840  1.093645  1.088849  1.131371  1.111942  1.494842   \n",
       "10-19    1.095502  0.985279  0.999238  0.983088  1.020276  1.012108  1.131475   \n",
       "20-49    1.158999  1.087695  1.082749  1.059169  1.093467  1.089757  1.122996   \n",
       "50-99    1.226648  1.179337  1.166436  1.133017  1.163367  1.177843  1.162929   \n",
       "100-249  1.117429  1.072214  1.071071  1.051240  1.088190  1.119742  1.113102   \n",
       "250-499  1.065536  1.034090  1.019215  0.991407  1.021839  1.065215  1.038360   \n",
       "500-999  1.057473  1.020692  1.014545  0.991138  0.995130  1.047712  1.043830   \n",
       "1000+    1.285331  1.254714  1.238809  1.212932  1.199723  1.230303  1.233951   \n",
       "\n",
       "year         2004      2005      2006      2007      2008      2009      2010  \\\n",
       "null          NaN       NaN       NaN       NaN       NaN       NaN       NaN   \n",
       "1-4      2.590027  2.686218  2.685853  2.875578  3.015295  3.124213  3.061693   \n",
       "5-9      1.480743  1.541577  1.511521  1.457583  1.485324  1.514402  1.508264   \n",
       "10-19    1.141586  1.167465  1.157759  1.227635  1.243749  1.270343  1.256797   \n",
       "20-49    1.126319  1.139696  1.153571  1.199297  1.206364  1.247363  1.237339   \n",
       "50-99    1.158931  1.160180  1.164051  1.266369  1.291375  1.330754  1.348431   \n",
       "100-249  1.112582  1.106005  1.138839  1.193004  1.211462  1.274740  1.292944   \n",
       "250-499  1.023301  1.012145  1.036077  1.109580  1.136119  1.161797  1.193047   \n",
       "500-999  1.030882  1.004783  1.025726  1.058499  1.105378  1.122376  1.160918   \n",
       "1000+    1.209908  1.208247  1.219650  1.260121  1.313340  1.252314  1.321200   \n",
       "\n",
       "year         2011      2012      2013      2014  2015  \n",
       "null          NaN       NaN       NaN       NaN   NaN  \n",
       "1-4      2.986714  3.205875  3.492571  3.361649   NaN  \n",
       "5-9      1.490229  1.569152  1.760049  1.784819   NaN  \n",
       "10-19    1.228452  1.280065  1.266094  1.269792   NaN  \n",
       "20-49    1.185636  1.208511  1.190712  1.171556   NaN  \n",
       "50-99    1.309716  1.307121  1.283760  1.256574   NaN  \n",
       "100-249  1.086245  1.195654  1.206405  1.202143   NaN  \n",
       "250-499  0.987335  1.080098  1.074993  1.067319   NaN  \n",
       "500-999  0.995293  1.036760  1.030780  1.030152   NaN  \n",
       "1000+    1.121421  1.140955  1.197553  1.249507   NaN  "
      ]
     },
     "metadata": {},
     "output_type": "display_data"
    }
   ],
   "source": [
    "# ratio\n",
    "basis = bds_by_size\n",
    "\n",
    "disp(ig_by_size_cmp['est'] / basis['est'])\n",
    "disp(ig_by_size_cmp['emp'] / basis['emp'])"
   ]
  },
  {
   "cell_type": "markdown",
   "metadata": {},
   "source": [
    "## By year and state"
   ]
  },
  {
   "cell_type": "markdown",
   "metadata": {},
   "source": [
    "### CBP"
   ]
  },
  {
   "cell_type": "code",
   "execution_count": 88,
   "metadata": {
    "ExecuteTime": {
     "end_time": "2017-09-06T20:11:49.336450Z",
     "start_time": "2017-09-06T20:11:47.222010Z"
    }
   },
   "outputs": [
    {
     "data": {
      "image/png": "[encoded data removed]",
      "text/plain": [
       "<matplotlib.figure.Figure at 0x7feb7caf1748>"
      ]
     },
     "metadata": {},
     "output_type": "display_data"
    }
   ],
   "source": [
    "ratio = ig_by_state / cbp_by_state\n",
    "\n",
    "fig, (ax1, ax2) = plt.subplots(1, 2, figsize=(20,10))\n",
    "ax1.set_title('Establishments')\n",
    "sns.heatmap(ratio['est'], ax=ax1)\n",
    "ax2.set_title('Employment')\n",
    "sns.heatmap(ratio['emp'], ax=ax2)\n",
    "plt.show()"
   ]
  },
  {
   "cell_type": "markdown",
   "metadata": {},
   "source": [
    "### BDS"
   ]
  },
  {
   "cell_type": "code",
   "execution_count": 94,
   "metadata": {
    "ExecuteTime": {
     "end_time": "2017-09-06T20:14:06.431663Z",
     "start_time": "2017-09-06T20:14:04.272548Z"
    }
   },
   "outputs": [
    {
     "data": {
      "image/png": "[encoded data removed]",
      "text/plain": [
       "<matplotlib.figure.Figure at 0x7feb73591ef0>"
      ]
     },
     "metadata": {},
     "output_type": "display_data"
    }
   ],
   "source": [
    "ratio = ig_by_state / bds_by_state\n",
    "\n",
    "fig, (ax1, ax2) = plt.subplots(1, 2, figsize=(20,10))\n",
    "ax1.set_title('Establishments')\n",
    "sns.heatmap(ratio['est'], ax=ax1)\n",
    "ax2.set_title('Employment')\n",
    "sns.heatmap(ratio['emp'], ax=ax2)\n",
    "plt.show()"
   ]
  },
  {
   "cell_type": "markdown",
   "metadata": {},
   "source": [
    "## By year and industry"
   ]
  },
  {
   "cell_type": "markdown",
   "metadata": {},
   "source": [
    "### CBP (NAICS)"
   ]
  },
  {
   "cell_type": "code",
   "execution_count": 109,
   "metadata": {
    "ExecuteTime": {
     "end_time": "2017-09-06T20:30:01.214506Z",
     "start_time": "2017-09-06T20:30:01.155141Z"
    }
   },
   "outputs": [
    {
     "data": {
      "text/html": [
       "<div>\n",
       "<style>\n",
       "    .dataframe thead tr:only-child th {\n",
       "        text-align: right;\n",
       "    }\n",
       "\n",
       "    .dataframe thead th {\n",
       "        text-align: left;\n",
       "    }\n",
       "\n",
       "    .dataframe tbody tr th {\n",
       "        vertical-align: top;\n",
       "    }\n",
       "</style>\n",
       "<table border=\"1\" class=\"dataframe\">\n",
       "  <thead>\n",
       "    <tr style=\"text-align: right;\">\n",
       "      <th>naics</th>\n",
       "      <th>11</th>\n",
       "      <th>21</th>\n",
       "      <th>22</th>\n",
       "      <th>23</th>\n",
       "      <th>31-33</th>\n",
       "      <th>42</th>\n",
       "      <th>44-45</th>\n",
       "      <th>48-49</th>\n",
       "      <th>51</th>\n",
       "      <th>52</th>\n",
       "      <th>53</th>\n",
       "      <th>54</th>\n",
       "      <th>55</th>\n",
       "      <th>56</th>\n",
       "      <th>61</th>\n",
       "      <th>62</th>\n",
       "      <th>71</th>\n",
       "      <th>72</th>\n",
       "      <th>81</th>\n",
       "      <th>92</th>\n",
       "      <th>99</th>\n",
       "    </tr>\n",
       "  </thead>\n",
       "  <tbody>\n",
       "    <tr>\n",
       "      <th>emp</th>\n",
       "      <td>3.742429</td>\n",
       "      <td>0.670047</td>\n",
       "      <td>1.021540</td>\n",
       "      <td>1.147241</td>\n",
       "      <td>1.036353</td>\n",
       "      <td>1.372024</td>\n",
       "      <td>1.231030</td>\n",
       "      <td>0.931304</td>\n",
       "      <td>1.026533</td>\n",
       "      <td>1.025101</td>\n",
       "      <td>1.850277</td>\n",
       "      <td>1.228332</td>\n",
       "      <td>0.088334</td>\n",
       "      <td>0.440425</td>\n",
       "      <td>3.656431</td>\n",
       "      <td>1.251055</td>\n",
       "      <td>1.338326</td>\n",
       "      <td>1.087187</td>\n",
       "      <td>1.592530</td>\n",
       "      <td>7.272258</td>\n",
       "      <td>129.813937</td>\n",
       "    </tr>\n",
       "    <tr>\n",
       "      <th>est</th>\n",
       "      <td>3.591736</td>\n",
       "      <td>0.866913</td>\n",
       "      <td>1.306937</td>\n",
       "      <td>1.356224</td>\n",
       "      <td>1.432850</td>\n",
       "      <td>1.388154</td>\n",
       "      <td>1.700334</td>\n",
       "      <td>1.315253</td>\n",
       "      <td>1.717941</td>\n",
       "      <td>1.560126</td>\n",
       "      <td>1.768957</td>\n",
       "      <td>1.757985</td>\n",
       "      <td>0.163369</td>\n",
       "      <td>1.303473</td>\n",
       "      <td>3.468358</td>\n",
       "      <td>2.413330</td>\n",
       "      <td>1.732053</td>\n",
       "      <td>1.244830</td>\n",
       "      <td>2.213398</td>\n",
       "      <td>26.546449</td>\n",
       "      <td>17.810047</td>\n",
       "    </tr>\n",
       "  </tbody>\n",
       "</table>\n",
       "</div>"
      ],
      "text/plain": [
       "naics        11        21        22        23     31-33        42     44-45  \\\n",
       "emp    3.742429  0.670047  1.021540  1.147241  1.036353  1.372024  1.231030   \n",
       "est    3.591736  0.866913  1.306937  1.356224  1.432850  1.388154  1.700334   \n",
       "\n",
       "naics     48-49        51        52        53        54        55        56  \\\n",
       "emp    0.931304  1.026533  1.025101  1.850277  1.228332  0.088334  0.440425   \n",
       "est    1.315253  1.717941  1.560126  1.768957  1.757985  0.163369  1.303473   \n",
       "\n",
       "naics        61        62        71        72        81         92          99  \n",
       "emp    3.656431  1.251055  1.338326  1.087187  1.592530   7.272258  129.813937  \n",
       "est    3.468358  2.413330  1.732053  1.244830  2.213398  26.546449   17.810047  "
      ]
     },
     "execution_count": 109,
     "metadata": {},
     "output_type": "execute_result"
    }
   ],
   "source": [
    "ratio = ig_by_naics / cbp_by_naics\n",
    "pd.DataFrame({\n",
    "    'est': ratio['est'].mean(axis=1), \n",
    "    'emp':ratio['emp'].mean(axis=1)}).T"
   ]
  },
  {
   "cell_type": "code",
   "execution_count": 129,
   "metadata": {
    "ExecuteTime": {
     "end_time": "2017-09-06T20:44:29.510336Z",
     "start_time": "2017-09-06T20:44:28.157234Z"
    }
   },
   "outputs": [
    {
     "data": {
      "image/png": "[encoded data removed]",
      "text/plain": [
       "<matplotlib.figure.Figure at 0x7feb734a15c0>"
      ]
     },
     "metadata": {},
     "output_type": "display_data"
    },
    {
     "name": "stdout",
     "output_type": "stream",
     "text": [
      "Excluded NAICS industries:\n",
      "11 Agriculture, Forestry, Fishing and Hunting\n",
      "55 Management of Companies and Enterprises\n",
      "61 Educational Services\n",
      "92 Public Administration\n",
      "99 Unknown industry\n"
     ]
    }
   ],
   "source": [
    "# don't show strong outliers\n",
    "exclude_naics = ['11', '55', '61', '92', '99']\n",
    "index_mask = [x not in exclude_naics for x in ratio.index]\n",
    "naics_labels = ['%s - %s' % (x, naics_codes[x]) for x in ratio.index if x not in exclude_naics]\n",
    "\n",
    "fig, (ax1, ax2) = plt.subplots(1, 2, figsize=(20,10))\n",
    "ax1.set_title('Establishments')\n",
    "df = ratio['est'][index_mask]\n",
    "sns.heatmap(df, ax=ax1, yticklabels=naics_labels)\n",
    "ax2.set_title('Employment')\n",
    "df = ratio['emp'][index_mask]\n",
    "sns.heatmap(df, ax=ax2)\n",
    "plt.show()\n",
    "\n",
    "print('Excluded NAICS industries:')\n",
    "for x in exclude_naics:\n",
    "    print(x, naics_codes[x])"
   ]
  },
  {
   "cell_type": "markdown",
   "metadata": {},
   "source": [
    "### BDS (SIC)"
   ]
  },
  {
   "cell_type": "code",
   "execution_count": 130,
   "metadata": {
    "ExecuteTime": {
     "end_time": "2017-09-06T20:46:22.833268Z",
     "start_time": "2017-09-06T20:46:22.809259Z"
    }
   },
   "outputs": [
    {
     "data": {
      "text/html": [
       "<div>\n",
       "<style>\n",
       "    .dataframe thead tr:only-child th {\n",
       "        text-align: right;\n",
       "    }\n",
       "\n",
       "    .dataframe thead th {\n",
       "        text-align: left;\n",
       "    }\n",
       "\n",
       "    .dataframe tbody tr th {\n",
       "        vertical-align: top;\n",
       "    }\n",
       "</style>\n",
       "<table border=\"1\" class=\"dataframe\">\n",
       "  <thead>\n",
       "    <tr style=\"text-align: right;\">\n",
       "      <th>sic</th>\n",
       "      <th>07</th>\n",
       "      <th>10</th>\n",
       "      <th>15</th>\n",
       "      <th>20</th>\n",
       "      <th>40</th>\n",
       "      <th>50</th>\n",
       "      <th>52</th>\n",
       "      <th>60</th>\n",
       "      <th>70</th>\n",
       "    </tr>\n",
       "  </thead>\n",
       "  <tbody>\n",
       "    <tr>\n",
       "      <th>emp</th>\n",
       "      <td>1.278969</td>\n",
       "      <td>0.939606</td>\n",
       "      <td>1.207699</td>\n",
       "      <td>0.965157</td>\n",
       "      <td>0.986887</td>\n",
       "      <td>1.258725</td>\n",
       "      <td>1.176457</td>\n",
       "      <td>1.207724</td>\n",
       "      <td>1.295634</td>\n",
       "    </tr>\n",
       "    <tr>\n",
       "      <th>est</th>\n",
       "      <td>1.964756</td>\n",
       "      <td>1.314871</td>\n",
       "      <td>1.814807</td>\n",
       "      <td>1.408337</td>\n",
       "      <td>1.603585</td>\n",
       "      <td>1.393306</td>\n",
       "      <td>1.748849</td>\n",
       "      <td>1.716463</td>\n",
       "      <td>2.262233</td>\n",
       "    </tr>\n",
       "  </tbody>\n",
       "</table>\n",
       "</div>"
      ],
      "text/plain": [
       "sic        07        10        15        20        40        50        52  \\\n",
       "emp  1.278969  0.939606  1.207699  0.965157  0.986887  1.258725  1.176457   \n",
       "est  1.964756  1.314871  1.814807  1.408337  1.603585  1.393306  1.748849   \n",
       "\n",
       "sic        60        70  \n",
       "emp  1.207724  1.295634  \n",
       "est  1.716463  2.262233  "
      ]
     },
     "execution_count": 130,
     "metadata": {},
     "output_type": "execute_result"
    }
   ],
   "source": [
    "ratio = ig_by_sic / bds_by_sic\n",
    "pd.DataFrame({\n",
    "    'est': ratio['est'].mean(axis=1), \n",
    "    'emp':ratio['emp'].mean(axis=1)}).T"
   ]
  },
  {
   "cell_type": "code",
   "execution_count": 131,
   "metadata": {
    "ExecuteTime": {
     "end_time": "2017-09-06T20:47:17.756581Z",
     "start_time": "2017-09-06T20:47:16.614302Z"
    }
   },
   "outputs": [
    {
     "data": {
      "image/png": "[encoded data removed]",
      "text/plain": [
       "<matplotlib.figure.Figure at 0x7feb7370f320>"
      ]
     },
     "metadata": {},
     "output_type": "display_data"
    }
   ],
   "source": [
    "sic_labels = ['%s - %s' % (x, sic_codes[x]) for x in ratio.index]\n",
    "\n",
    "fig, (ax1, ax2) = plt.subplots(1, 2, figsize=(20,10))\n",
    "ax1.set_title('Establishments')\n",
    "df = ratio['est']\n",
    "sns.heatmap(df, ax=ax1, yticklabels=sic_labels)\n",
    "ax2.set_title('Employment')\n",
    "df = ratio['emp']\n",
    "sns.heatmap(df, ax=ax2)\n",
    "plt.show()"
   ]
  },
  {
   "cell_type": "markdown",
   "metadata": {},
   "source": [
    "# Appendix\n",
    "\n",
    "Code used at intermediate steps."
   ]
  },
  {
   "cell_type": "markdown",
   "metadata": {
    "heading_collapsed": true
   },
   "source": [
    "## Code lookup tables"
   ]
  },
  {
   "cell_type": "markdown",
   "metadata": {
    "hidden": true
   },
   "source": [
    "### State\n",
    "2-digit, 2-letter and name"
   ]
  },
  {
   "cell_type": "code",
   "execution_count": 15,
   "metadata": {
    "ExecuteTime": {
     "end_time": "2017-09-06T17:53:55.884038Z",
     "start_time": "2017-09-06T17:53:55.637108Z"
    },
    "collapsed": true,
    "hidden": true
   },
   "outputs": [],
   "source": [
    "df = pd.read_csv('https://www2.census.gov/geo/docs/reference/state.txt', delimiter='|', dtype='object')\n",
    "\n",
    "state_codes = {\n",
    "    'numcode_to_strcode': dict(zip(df.STATE, df.STUSAB)),\n",
    "    'numcode_to_name': dict(zip(df.STATE, df.STATE_NAME)),\n",
    "    'strcode_to_name': dict(zip(df.STUSAB, df.STATE_NAME))\n",
    "}"
   ]
  },
  {
   "cell_type": "markdown",
   "metadata": {
    "hidden": true
   },
   "source": [
    "### NAICS\n",
    "\n",
    "Code tables are updated every 5 years, but there is not much change at 2-digit level."
   ]
  },
  {
   "cell_type": "code",
   "execution_count": 75,
   "metadata": {
    "ExecuteTime": {
     "end_time": "2017-08-24T17:20:31.498384Z",
     "start_time": "2017-08-24T17:20:26.925072Z"
    },
    "collapsed": true,
    "hidden": true
   },
   "outputs": [
    {
     "name": "stdout",
     "output_type": "stream",
     "text": [
      "1997 2002\n",
      "0    21\n",
      "1    21\n",
      "dtype: int64\n",
      "2002 2007\n",
      "0    21\n",
      "1    20\n",
      "dtype: int64\n",
      "2007 2012\n",
      "0    21\n",
      "1    21\n",
      "dtype: int64\n",
      "2012 2017\n",
      "0    21\n",
      "1    21\n",
      "dtype: int64\n"
     ]
    },
    {
     "data": {
      "text/html": [
       "<div>\n",
       "<style>\n",
       "    .dataframe thead tr:only-child th {\n",
       "        text-align: right;\n",
       "    }\n",
       "\n",
       "    .dataframe thead th {\n",
       "        text-align: left;\n",
       "    }\n",
       "\n",
       "    .dataframe tbody tr th {\n",
       "        vertical-align: top;\n",
       "    }\n",
       "</style>\n",
       "<table border=\"1\" class=\"dataframe\">\n",
       "  <thead>\n",
       "    <tr style=\"text-align: right;\">\n",
       "      <th></th>\n",
       "      <th>0</th>\n",
       "      <th>1</th>\n",
       "      <th>0</th>\n",
       "      <th>1</th>\n",
       "    </tr>\n",
       "  </thead>\n",
       "  <tbody>\n",
       "    <tr>\n",
       "      <th>0</th>\n",
       "      <td>Sector</td>\n",
       "      <td>Description</td>\n",
       "      <td>Sector</td>\n",
       "      <td>Description</td>\n",
       "    </tr>\n",
       "    <tr>\n",
       "      <th>1</th>\n",
       "      <td>11</td>\n",
       "      <td>Agriculture, Forestry, Fishing and Hunting</td>\n",
       "      <td>11</td>\n",
       "      <td>Agriculture, Forestry, Fishing and Hunting</td>\n",
       "    </tr>\n",
       "    <tr>\n",
       "      <th>2</th>\n",
       "      <td>21</td>\n",
       "      <td>Mining</td>\n",
       "      <td>21</td>\n",
       "      <td>Mining, Quarrying, and Oil and Gas Extraction</td>\n",
       "    </tr>\n",
       "    <tr>\n",
       "      <th>3</th>\n",
       "      <td>22</td>\n",
       "      <td>Utilities</td>\n",
       "      <td>22</td>\n",
       "      <td>Utilities</td>\n",
       "    </tr>\n",
       "    <tr>\n",
       "      <th>4</th>\n",
       "      <td>23</td>\n",
       "      <td>Construction</td>\n",
       "      <td>23</td>\n",
       "      <td>Construction</td>\n",
       "    </tr>\n",
       "    <tr>\n",
       "      <th>5</th>\n",
       "      <td>31-33</td>\n",
       "      <td>Manufacturing</td>\n",
       "      <td>31-33</td>\n",
       "      <td>Manufacturing</td>\n",
       "    </tr>\n",
       "    <tr>\n",
       "      <th>6</th>\n",
       "      <td>42</td>\n",
       "      <td>Wholesale Trade</td>\n",
       "      <td>42</td>\n",
       "      <td>Wholesale Trade</td>\n",
       "    </tr>\n",
       "    <tr>\n",
       "      <th>7</th>\n",
       "      <td>44-45</td>\n",
       "      <td>Retail Trade</td>\n",
       "      <td>44-45</td>\n",
       "      <td>Retail Trade</td>\n",
       "    </tr>\n",
       "    <tr>\n",
       "      <th>8</th>\n",
       "      <td>48-49</td>\n",
       "      <td>Transportation and Warehousing</td>\n",
       "      <td>48-49</td>\n",
       "      <td>Transportation and Warehousing</td>\n",
       "    </tr>\n",
       "    <tr>\n",
       "      <th>9</th>\n",
       "      <td>51</td>\n",
       "      <td>Information</td>\n",
       "      <td>51</td>\n",
       "      <td>Information</td>\n",
       "    </tr>\n",
       "    <tr>\n",
       "      <th>10</th>\n",
       "      <td>52</td>\n",
       "      <td>Finance and Insurance</td>\n",
       "      <td>52</td>\n",
       "      <td>Finance and Insurance</td>\n",
       "    </tr>\n",
       "    <tr>\n",
       "      <th>11</th>\n",
       "      <td>53</td>\n",
       "      <td>Real Estate and Rental and Leasing</td>\n",
       "      <td>53</td>\n",
       "      <td>Real Estate and Rental and Leasing</td>\n",
       "    </tr>\n",
       "    <tr>\n",
       "      <th>12</th>\n",
       "      <td>54</td>\n",
       "      <td>Professional, Scientific, and Technical Services</td>\n",
       "      <td>54</td>\n",
       "      <td>Professional, Scientific, and Technical Services</td>\n",
       "    </tr>\n",
       "    <tr>\n",
       "      <th>13</th>\n",
       "      <td>55</td>\n",
       "      <td>Management of Companies and Enterprises</td>\n",
       "      <td>55</td>\n",
       "      <td>Management of Companies and Enterprises</td>\n",
       "    </tr>\n",
       "    <tr>\n",
       "      <th>14</th>\n",
       "      <td>56</td>\n",
       "      <td>Administrative and Support and Waste Managemen...</td>\n",
       "      <td>56</td>\n",
       "      <td>Administrative and Support and Waste Managemen...</td>\n",
       "    </tr>\n",
       "    <tr>\n",
       "      <th>15</th>\n",
       "      <td>61</td>\n",
       "      <td>Educational Services</td>\n",
       "      <td>61</td>\n",
       "      <td>Educational Services</td>\n",
       "    </tr>\n",
       "    <tr>\n",
       "      <th>16</th>\n",
       "      <td>62</td>\n",
       "      <td>Health Care and Social Assistance</td>\n",
       "      <td>62</td>\n",
       "      <td>Health Care and Social Assistance</td>\n",
       "    </tr>\n",
       "    <tr>\n",
       "      <th>17</th>\n",
       "      <td>71</td>\n",
       "      <td>Arts, Entertainment, and Recreation</td>\n",
       "      <td>71</td>\n",
       "      <td>Arts, Entertainment, and Recreation</td>\n",
       "    </tr>\n",
       "    <tr>\n",
       "      <th>18</th>\n",
       "      <td>72</td>\n",
       "      <td>Accommodation and Food Services</td>\n",
       "      <td>72</td>\n",
       "      <td>Accommodation and Food Services</td>\n",
       "    </tr>\n",
       "    <tr>\n",
       "      <th>19</th>\n",
       "      <td>81</td>\n",
       "      <td>Other Services (except Public Administration)</td>\n",
       "      <td>81</td>\n",
       "      <td>Other Services (except Public Administration)</td>\n",
       "    </tr>\n",
       "    <tr>\n",
       "      <th>20</th>\n",
       "      <td>92</td>\n",
       "      <td>Public Administration</td>\n",
       "      <td>92</td>\n",
       "      <td>Public Administration</td>\n",
       "    </tr>\n",
       "  </tbody>\n",
       "</table>\n",
       "</div>"
      ],
      "text/plain": [
       "         0                                                  1       0  \\\n",
       "0   Sector                                        Description  Sector   \n",
       "1       11         Agriculture, Forestry, Fishing and Hunting      11   \n",
       "2       21                                             Mining      21   \n",
       "3       22                                          Utilities      22   \n",
       "4       23                                       Construction      23   \n",
       "5    31-33                                      Manufacturing   31-33   \n",
       "6       42                                    Wholesale Trade      42   \n",
       "7    44-45                                       Retail Trade   44-45   \n",
       "8    48-49                     Transportation and Warehousing   48-49   \n",
       "9       51                                        Information      51   \n",
       "10      52                              Finance and Insurance      52   \n",
       "11      53                 Real Estate and Rental and Leasing      53   \n",
       "12      54   Professional, Scientific, and Technical Services      54   \n",
       "13      55            Management of Companies and Enterprises      55   \n",
       "14      56  Administrative and Support and Waste Managemen...      56   \n",
       "15      61                               Educational Services      61   \n",
       "16      62                  Health Care and Social Assistance      62   \n",
       "17      71                Arts, Entertainment, and Recreation      71   \n",
       "18      72                    Accommodation and Food Services      72   \n",
       "19      81      Other Services (except Public Administration)      81   \n",
       "20      92                              Public Administration      92   \n",
       "\n",
       "                                                    1  \n",
       "0                                         Description  \n",
       "1          Agriculture, Forestry, Fishing and Hunting  \n",
       "2       Mining, Quarrying, and Oil and Gas Extraction  \n",
       "3                                           Utilities  \n",
       "4                                        Construction  \n",
       "5                                       Manufacturing  \n",
       "6                                     Wholesale Trade  \n",
       "7                                        Retail Trade  \n",
       "8                      Transportation and Warehousing  \n",
       "9                                         Information  \n",
       "10                              Finance and Insurance  \n",
       "11                 Real Estate and Rental and Leasing  \n",
       "12   Professional, Scientific, and Technical Services  \n",
       "13            Management of Companies and Enterprises  \n",
       "14  Administrative and Support and Waste Managemen...  \n",
       "15                               Educational Services  \n",
       "16                  Health Care and Social Assistance  \n",
       "17                Arts, Entertainment, and Recreation  \n",
       "18                    Accommodation and Food Services  \n",
       "19      Other Services (except Public Administration)  \n",
       "20                              Public Administration  "
      ]
     },
     "execution_count": 75,
     "metadata": {},
     "output_type": "execute_result"
    }
   ],
   "source": [
    "url = {\n",
    "    1997: 'https://www.census.gov/eos/www/naics/reference_files_tools/1997/1997.html',\n",
    "    2002: 'https://www.census.gov/cgi-bin/sssd/naics/naicsrch?chart=2002',\n",
    "    2007: 'https://www.census.gov/cgi-bin/sssd/naics/naicsrch?chart=2007',\n",
    "    2012: 'https://www.census.gov/cgi-bin/sssd/naics/naicsrch?chart=2012',\n",
    "    2017: 'https://www.census.gov/cgi-bin/sssd/naics/naicsrch?chart=2017'\n",
    "}\n",
    "\n",
    "dfs = {}\n",
    "for y, u in url.items():\n",
    "    dfs[y] = pd.read_html(u)[0]\n",
    "\n",
    "# what changed over years?\n",
    "years = list(dfs.keys())\n",
    "for y0, y1 in zip(years[:-1], years[1:]):\n",
    "    print(y0, y1)\n",
    "    print((dfs[y0] == dfs[y1]).sum())\n",
    "\n",
    "# the only difference was \"Mining\" changed to \"Mining, Quarrying, and Oil and Gas Extraction\" between 2002 and 2007.\n",
    "pd.concat([dfs[2002], dfs[2007]], axis=1)"
   ]
  },
  {
   "cell_type": "code",
   "execution_count": 109,
   "metadata": {
    "ExecuteTime": {
     "end_time": "2017-08-24T18:20:40.963337Z",
     "start_time": "2017-08-24T18:20:40.955927Z"
    },
    "collapsed": true,
    "hidden": true
   },
   "outputs": [],
   "source": [
    "# create code map using 2012 table\n",
    "y = 2012\n",
    "codes = naics[y].iloc[1:, 0]\n",
    "desc = naics[y].iloc[1:, 1]\n",
    "naics_codes = dict(zip(codes, desc))\n",
    "naics_codes['99'] = 'Unknown industry'"
   ]
  },
  {
   "cell_type": "markdown",
   "metadata": {
    "hidden": true
   },
   "source": [
    "### SIC"
   ]
  },
  {
   "cell_type": "code",
   "execution_count": 78,
   "metadata": {
    "ExecuteTime": {
     "end_time": "2017-08-24T17:33:05.370669Z",
     "start_time": "2017-08-24T17:33:04.805645Z"
    },
    "collapsed": true,
    "hidden": true
   },
   "outputs": [],
   "source": [
    "# 2-digit SIC codes\n",
    "url = 'https://www2.census.gov/programs-surveys/cbp/technical-documentation/records-layouts/sic-code-descriptions/sic88_97.txt'\n",
    "r = requests.get(url)\n",
    "r.raise_for_status()\n",
    "sic_codes = {}\n",
    "for line in r.text.split('\\n'):\n",
    "    code = line[:4]\n",
    "    # ignore 4-digit codes and total (----)\n",
    "    if code[2:] != '--' or code == '----':\n",
    "        continue\n",
    "    code = code[:2]\n",
    "    desc = line[6:].capitalize()\n",
    "    sic_codes[code] = desc"
   ]
  },
  {
   "cell_type": "markdown",
   "metadata": {
    "hidden": true
   },
   "source": [
    "### Upload to GCS"
   ]
  },
  {
   "cell_type": "code",
   "execution_count": 111,
   "metadata": {
    "ExecuteTime": {
     "end_time": "2017-08-24T18:21:01.986962Z",
     "start_time": "2017-08-24T18:20:59.242054Z"
    },
    "collapsed": true,
    "hidden": true
   },
   "outputs": [],
   "source": [
    "with tempfile.TemporaryDirectory() as d:\n",
    "    file_name = os.path.join(d, 'codes.json')\n",
    "    \n",
    "    with open(file_name, 'w') as f:\n",
    "        json.dump(state_codes, f, indent=2)\n",
    "    gs_upload_compress(file_name, census_bucket_name, 'codes/state.json')\n",
    "\n",
    "    with open(file_name, 'w') as f:\n",
    "        json.dump(naics_codes, f, indent=2)\n",
    "    gs_upload_compress(f.name, census_bucket_name, 'codes/naics.json')\n",
    "    \n",
    "    with open(file_name, 'w') as f:\n",
    "        json.dump(sic_codes, f, indent=2)\n",
    "    gs_upload_compress(f.name, census_bucket_name, 'codes/sic.json')"
   ]
  },
  {
   "cell_type": "markdown",
   "metadata": {},
   "source": [
    "## Download from Census\n",
    "\n",
    "Download from Census website and save to GCS."
   ]
  },
  {
   "cell_type": "markdown",
   "metadata": {},
   "source": [
    "### CBP"
   ]
  },
  {
   "cell_type": "code",
   "execution_count": null,
   "metadata": {
    "ExecuteTime": {
     "end_time": "2017-09-18T15:45:49.134769Z",
     "start_time": "2017-09-18T15:44:48.351169Z"
    }
   },
   "outputs": [],
   "source": [
    "with tempfile.TemporaryDirectory(dir='.') as tmpdir:\n",
    "\n",
    "    for geo in ['us', 'state']:\n",
    "        for t in meta['cbp'][geo]:\n",
    "            print('{} started...'.format(t['name']), end=' ')\n",
    "\n",
    "            # check if file is already in GCS\n",
    "            object_name = t['obj_name']\n",
    "            if gs_file_exists(census_bucket_name, object_name):\n",
    "                print('finished, file already exists.')\n",
    "                continue\n",
    "\n",
    "            # download file from Census\n",
    "            url = t['url']\n",
    "            file_extension = url[-3:]\n",
    "            if file_extension == 'zip':\n",
    "                downloaded_name = download_unzip(url, tmpdir)[0]\n",
    "            else: # file_extension == 'txt'\n",
    "                downloaded_name = download_text(url, tmpdir)\n",
    "\n",
    "            # upload file to GCS\n",
    "            file_path = os.path.join(tmpdir, downloaded_name)\n",
    "            gs_upload_compress(file_path, census_bucket_name, object_name)\n",
    "\n",
    "            print('finished.')"
   ]
  },
  {
   "cell_type": "markdown",
   "metadata": {},
   "source": [
    "### BDS"
   ]
  },
  {
   "cell_type": "code",
   "execution_count": null,
   "metadata": {
    "ExecuteTime": {
     "end_time": "2017-09-18T15:51:21.212205Z",
     "start_time": "2017-09-18T15:51:05.772345Z"
    }
   },
   "outputs": [],
   "source": [
    "with tempfile.TemporaryDirectory(dir='.') as tmpdir:\n",
    "\n",
    "    for k in ['firm', 'estab']:\n",
    "        for t in meta['bds'][k]:\n",
    "            print('{} started...'.format(t['name']), end=' ')\n",
    "\n",
    "            # check if file is already in GCS\n",
    "            object_name = t['obj_name']\n",
    "            if gs_file_exists(census_bucket_name, object_name):\n",
    "                print('finished, file already exists.')\n",
    "                continue\n",
    "\n",
    "            # download file from Census\n",
    "            downloaded_name = download_text(t['url'], tmpdir)\n",
    "\n",
    "            # upload file to GCS\n",
    "            file_path = os.path.join(tmpdir, downloaded_name)\n",
    "            gs_upload_compress(file_path, census_bucket_name, object_name)\n",
    "\n",
    "            print('finished.')"
   ]
  },
  {
   "cell_type": "markdown",
   "metadata": {},
   "source": [
    "## Explore CBP\n",
    "Check how fields changed over time."
   ]
  },
  {
   "cell_type": "markdown",
   "metadata": {},
   "source": [
    "### US file"
   ]
  },
  {
   "cell_type": "code",
   "execution_count": null,
   "metadata": {
    "ExecuteTime": {
     "end_time": "2017-09-18T16:14:49.373901Z",
     "start_time": "2017-09-18T16:14:48.288307Z"
    }
   },
   "outputs": [],
   "source": [
    "# Read column lists for all years\n",
    "raw_cols = {}\n",
    "cols = {}\n",
    "all_cols = []\n",
    "years = []\n",
    "for t in meta['cbp']['us']:\n",
    "    y = t['year']\n",
    "    years.append(y)\n",
    "    file_name = os.path.join(tmpdir, t['name'])\n",
    "    df = pd.read_csv(file_name, nrows=1)\n",
    "    raw_cols[y] = list(df.columns)\n",
    "    cols[y] = list(df.columns.str.lower())\n",
    "    for c in cols[y]:\n",
    "        if c not in all_cols:\n",
    "            all_cols.append(c)\n",
    "\n",
    "# Create table where columns that existed in year are marked with 1s, otherwise 0\n",
    "col_by_year = pd.DataFrame(0, index=all_cols, columns=years)\n",
    "for y in years:\n",
    "    col_by_year.loc[cols[y], y] = 1\n",
    "\n",
    "pd.options.display.max_columns = 100\n",
    "pd.options.display.max_rows = 100\n",
    "col_by_year.T.style.highlight_max(color='lightgrey')"
   ]
  },
  {
   "cell_type": "markdown",
   "metadata": {},
   "source": [
    "### State file"
   ]
  },
  {
   "cell_type": "code",
   "execution_count": null,
   "metadata": {
    "ExecuteTime": {
     "end_time": "2017-09-18T16:15:31.645938Z",
     "start_time": "2017-09-18T16:15:29.757283Z"
    }
   },
   "outputs": [],
   "source": [
    "# Read column lists for all years\n",
    "raw_cols = {}\n",
    "cols = {}\n",
    "all_cols = []\n",
    "years = []\n",
    "for t in meta['cbp']['state']:\n",
    "    y = t['year']\n",
    "    years.append(y)\n",
    "    file_name = os.path.join(tmpdir, t['name'])\n",
    "    df = pd.read_csv(file_name, nrows=1)\n",
    "    raw_cols[y] = list(df.columns)\n",
    "    cols[y] = list(df.columns.str.lower())\n",
    "    for c in cols[y]:\n",
    "        if c not in all_cols:\n",
    "            all_cols.append(c)\n",
    "\n",
    "# Create table where columns that existed in year are marked with 1s, otherwise 0\n",
    "col_by_year = pd.DataFrame(0, index=all_cols, columns=years)\n",
    "for y in years:\n",
    "    col_by_year.loc[cols[y], y] = 1\n",
    "\n",
    "pd.options.display.max_columns = 100\n",
    "pd.options.display.max_rows = 100\n",
    "col_by_year.T.style.highlight_max(color='lightgrey')"
   ]
  }
 ],
 "metadata": {
  "kernelspec": {
   "display_name": "Python 3",
   "language": "python",
   "name": "python3"
  },
  "language_info": {
   "codemirror_mode": {
    "name": "ipython",
    "version": 3
   },
   "file_extension": ".py",
   "mimetype": "text/x-python",
   "name": "python",
   "nbconvert_exporter": "python",
   "pygments_lexer": "ipython3",
   "version": "3.6.2"
  },
  "toc": {
   "colors": {
    "hover_highlight": "#DAA520",
    "navigate_num": "#000000",
    "navigate_text": "#333333",
    "running_highlight": "#FF0000",
    "selected_highlight": "#FFD700",
    "sidebar_border": "#EEEEEE",
    "wrapper_background": "#FFFFFF"
   },
   "moveMenuLeft": true,
   "nav_menu": {
    "height": "353px",
    "width": "252px"
   },
   "navigate_menu": true,
   "number_sections": false,
   "sideBar": true,
   "threshold": 4,
   "toc_cell": false,
   "toc_position": {
    "height": "868px",
    "left": "0px",
    "right": "1708px",
    "top": "106px",
    "width": "212px"
   },
   "toc_section_display": "block",
   "toc_window_display": true,
   "widenNotebook": false
  },
  "widgets": {
   "application/vnd.jupyter.widget-state+json": {
    "state": {
     "02eb965cb5c54a27ba0c0fd1cbeadaea": {
      "model_module": "jupyter-js-widgets",
      "model_module_version": "~2.1.4",
      "model_name": "LayoutModel",
      "state": {
       "_model_module_version": "~2.1.4",
       "_view_module_version": "~2.1.4"
      }
     },
     "095bfc9f3f9d4b0c9d1403cb663976b8": {
      "model_module": "jupyter-js-widgets",
      "model_module_version": "~2.1.4",
      "model_name": "LayoutModel",
      "state": {
       "_model_module_version": "~2.1.4",
       "_view_module_version": "~2.1.4"
      }
     },
     "0b3651103de54331834c9f5fe5319640": {
      "model_module": "jupyter-js-widgets",
      "model_module_version": "~2.1.4",
      "model_name": "LayoutModel",
      "state": {
       "_model_module_version": "~2.1.4",
       "_view_module_version": "~2.1.4"
      }
     },
     "1836d588bfc140fdb5c4dcb006f9753f": {
      "model_module": "jupyter-js-widgets",
      "model_module_version": "~2.1.4",
      "model_name": "LayoutModel",
      "state": {
       "_model_module_version": "~2.1.4",
       "_view_module_version": "~2.1.4"
      }
     },
     "1f724c2ab5f2419db46e32d5ef85f322": {
      "model_module": "jupyter-js-widgets",
      "model_module_version": "~2.1.4",
      "model_name": "OutputModel",
      "state": {
       "_dom_classes": [],
       "_model_module": "jupyter-js-widgets",
       "_model_module_version": "~2.1.4",
       "_view_module": "jupyter-js-widgets",
       "_view_module_version": "~2.1.4",
       "layout": "IPY_MODEL_0b3651103de54331834c9f5fe5319640",
       "msg_throttle": 1
      }
     },
     "289090711d7f48d7826aa2f279f05913": {
      "model_module": "jupyter-js-widgets",
      "model_module_version": "~2.1.4",
      "model_name": "SelectMultipleModel",
      "state": {
       "_model_module_version": "~2.1.4",
       "_options_labels": [
        "11",
        "21",
        "22",
        "23",
        "31",
        "42",
        "44",
        "48",
        "51",
        "52",
        "53",
        "54",
        "55",
        "56",
        "61",
        "62",
        "71",
        "72",
        "81",
        "92",
        "99"
       ],
       "_view_module_version": "~2.1.4",
       "description": "NAICS codes",
       "layout": "IPY_MODEL_d1d9a6e2f4ef4e8c8b9aa8cd586269de",
       "value": [
        "21",
        "22",
        "23",
        "31",
        "42",
        "44",
        "48",
        "51",
        "52",
        "53",
        "54",
        "55",
        "56",
        "62",
        "71",
        "72",
        "81"
       ]
      }
     },
     "360396d7115d447e85fe1d31616056bb": {
      "model_module": "jupyter-js-widgets",
      "model_module_version": "~2.1.4",
      "model_name": "VBoxModel",
      "state": {
       "_dom_classes": [
        "widget-interact"
       ],
       "_model_module_version": "~2.1.4",
       "_view_module_version": "~2.1.4",
       "children": [
        "IPY_MODEL_e8f5a9cba65d4fbabde935577fb0dfcb",
        "IPY_MODEL_4ef7c546dd4e40dab058888c3ae842f4"
       ],
       "layout": "IPY_MODEL_ffa07eb9f0bb414d82536dc678da8eab"
      }
     },
     "3b3809e1ce8a47ae8dcbaaf960ae2939": {
      "model_module": "jupyter-js-widgets",
      "model_module_version": "~2.1.4",
      "model_name": "LayoutModel",
      "state": {
       "_model_module_version": "~2.1.4",
       "_view_module_version": "~2.1.4"
      }
     },
     "4765832c3eef44f0a44348aa2176fd4a": {
      "model_module": "jupyter-js-widgets",
      "model_module_version": "~2.1.4",
      "model_name": "LayoutModel",
      "state": {
       "_model_module_version": "~2.1.4",
       "_view_module_version": "~2.1.4"
      }
     },
     "4ef2a09afa9e4a98b766e82d48c3ae98": {
      "model_module": "jupyter-js-widgets",
      "model_module_version": "~2.1.4",
      "model_name": "VBoxModel",
      "state": {
       "_dom_classes": [
        "widget-interact"
       ],
       "_model_module_version": "~2.1.4",
       "_view_module_version": "~2.1.4",
       "children": [
        "IPY_MODEL_a44b90a6482540ce8a39da04b1851740",
        "IPY_MODEL_fec851f6a85a4b3584308399d45e3e12"
       ],
       "layout": "IPY_MODEL_c7a17be6d5584ea29f0dd3431bacca1d"
      }
     },
     "4ef7c546dd4e40dab058888c3ae842f4": {
      "model_module": "jupyter-js-widgets",
      "model_module_version": "~2.1.4",
      "model_name": "OutputModel",
      "state": {
       "_dom_classes": [],
       "_model_module": "jupyter-js-widgets",
       "_model_module_version": "~2.1.4",
       "_view_module": "jupyter-js-widgets",
       "_view_module_version": "~2.1.4",
       "layout": "IPY_MODEL_3b3809e1ce8a47ae8dcbaaf960ae2939",
       "msg_throttle": 1
      }
     },
     "4f644616328e43d4ba27a4beb76e9ef8": {
      "model_module": "jupyter-js-widgets",
      "model_module_version": "~2.1.4",
      "model_name": "VBoxModel",
      "state": {
       "_dom_classes": [
        "widget-interact"
       ],
       "_model_module_version": "~2.1.4",
       "_view_module_version": "~2.1.4",
       "children": [
        "IPY_MODEL_6afcca4104294bf2923cd8baf59f533f",
        "IPY_MODEL_1f724c2ab5f2419db46e32d5ef85f322"
       ],
       "layout": "IPY_MODEL_c1f92e7580e5443e9746602fcf5a82ee"
      }
     },
     "56f229c5f3194cdc9f27072e43d4e6eb": {
      "model_module": "jupyter-js-widgets",
      "model_module_version": "~2.1.4",
      "model_name": "VBoxModel",
      "state": {
       "_dom_classes": [
        "widget-interact"
       ],
       "_model_module_version": "~2.1.4",
       "_view_module_version": "~2.1.4",
       "children": [
        "IPY_MODEL_6c645e305b374aea92e2cf619aa4b295",
        "IPY_MODEL_bfb48d8d057e43e79b1b06f8f7fb7f82"
       ],
       "layout": "IPY_MODEL_f7f22b20603c4820947e764afd15afcb"
      }
     },
     "6afcca4104294bf2923cd8baf59f533f": {
      "model_module": "jupyter-js-widgets",
      "model_module_version": "~2.1.4",
      "model_name": "SelectMultipleModel",
      "state": {
       "_model_module_version": "~2.1.4",
       "_options_labels": [
        "11",
        "21",
        "22",
        "23",
        "31",
        "42",
        "44",
        "48",
        "51",
        "52",
        "53",
        "54",
        "55",
        "56",
        "61",
        "62",
        "71",
        "72",
        "81",
        "92",
        "99"
       ],
       "_view_module_version": "~2.1.4",
       "description": "NAICS codes",
       "layout": "IPY_MODEL_ae1a011137674ab8a15c433f5992c1f0",
       "value": [
        "21",
        "22",
        "23",
        "31",
        "42",
        "44",
        "48",
        "51",
        "52",
        "53",
        "54",
        "55",
        "56",
        "62",
        "71",
        "72",
        "81"
       ]
      }
     },
     "6c645e305b374aea92e2cf619aa4b295": {
      "model_module": "jupyter-js-widgets",
      "model_module_version": "~2.1.4",
      "model_name": "SelectMultipleModel",
      "state": {
       "_model_module_version": "~2.1.4",
       "_options_labels": [
        "11",
        "21",
        "22",
        "23",
        "31",
        "42",
        "44",
        "48",
        "51",
        "52",
        "53",
        "54",
        "55",
        "56",
        "61",
        "62",
        "71",
        "72",
        "81",
        "92",
        "99"
       ],
       "_view_module_version": "~2.1.4",
       "description": "NAICS codes",
       "layout": "IPY_MODEL_1836d588bfc140fdb5c4dcb006f9753f",
       "value": [
        "11",
        "21",
        "22",
        "23",
        "31",
        "42",
        "44",
        "48",
        "51",
        "52",
        "53",
        "54",
        "55",
        "56",
        "61",
        "62",
        "71",
        "72",
        "81",
        "92",
        "99"
       ]
      }
     },
     "6fe5bf01a03b42c486a357124782949e": {
      "model_module": "jupyter-js-widgets",
      "model_module_version": "~2.1.4",
      "model_name": "LayoutModel",
      "state": {
       "_model_module_version": "~2.1.4",
       "_view_module_version": "~2.1.4"
      }
     },
     "7baaaa2362084b14b9a4f191da456928": {
      "model_module": "jupyter-js-widgets",
      "model_module_version": "~2.1.4",
      "model_name": "LayoutModel",
      "state": {
       "_model_module_version": "~2.1.4",
       "_view_module_version": "~2.1.4"
      }
     },
     "9539b47e9d87431193d55058dcfd92f6": {
      "model_module": "jupyter-js-widgets",
      "model_module_version": "~2.1.4",
      "model_name": "VBoxModel",
      "state": {
       "_dom_classes": [
        "widget-interact"
       ],
       "_model_module_version": "~2.1.4",
       "_view_module_version": "~2.1.4",
       "children": [
        "IPY_MODEL_6c645e305b374aea92e2cf619aa4b295",
        "IPY_MODEL_aba5672a28fb4ed4a8b014c1c4653e4b"
       ],
       "layout": "IPY_MODEL_9aaca9deccb649ad93686cd44593e8bf"
      }
     },
     "9981752719674b5eadc443cdab4d59b0": {
      "model_module": "jupyter-js-widgets",
      "model_module_version": "~2.1.4",
      "model_name": "LayoutModel",
      "state": {
       "_model_module_version": "~2.1.4",
       "_view_module_version": "~2.1.4"
      }
     },
     "9aaca9deccb649ad93686cd44593e8bf": {
      "model_module": "jupyter-js-widgets",
      "model_module_version": "~2.1.4",
      "model_name": "LayoutModel",
      "state": {
       "_model_module_version": "~2.1.4",
       "_view_module_version": "~2.1.4"
      }
     },
     "a44b90a6482540ce8a39da04b1851740": {
      "model_module": "jupyter-js-widgets",
      "model_module_version": "~2.1.4",
      "model_name": "SelectMultipleModel",
      "state": {
       "_model_module_version": "~2.1.4",
       "_options_labels": [
        "11",
        "21",
        "22",
        "23",
        "31",
        "42",
        "44",
        "48",
        "51",
        "52",
        "53",
        "54",
        "55",
        "56",
        "61",
        "62",
        "71",
        "72",
        "81",
        "92",
        "99"
       ],
       "_view_module_version": "~2.1.4",
       "description": "NAICS codes",
       "layout": "IPY_MODEL_b6b1a75ca70e4019a865f2f16831ca62",
       "value": [
        "11",
        "21",
        "22",
        "23",
        "31",
        "42",
        "44",
        "48",
        "51",
        "52",
        "53",
        "54",
        "55",
        "56",
        "61",
        "62",
        "71",
        "72",
        "81",
        "92",
        "99"
       ]
      }
     },
     "aba5672a28fb4ed4a8b014c1c4653e4b": {
      "model_module": "jupyter-js-widgets",
      "model_module_version": "~2.1.4",
      "model_name": "OutputModel",
      "state": {
       "_dom_classes": [],
       "_model_module": "jupyter-js-widgets",
       "_model_module_version": "~2.1.4",
       "_view_module": "jupyter-js-widgets",
       "_view_module_version": "~2.1.4",
       "layout": "IPY_MODEL_7baaaa2362084b14b9a4f191da456928",
       "msg_throttle": 1
      }
     },
     "ae1a011137674ab8a15c433f5992c1f0": {
      "model_module": "jupyter-js-widgets",
      "model_module_version": "~2.1.4",
      "model_name": "LayoutModel",
      "state": {
       "_model_module_version": "~2.1.4",
       "_view_module_version": "~2.1.4"
      }
     },
     "b6b1a75ca70e4019a865f2f16831ca62": {
      "model_module": "jupyter-js-widgets",
      "model_module_version": "~2.1.4",
      "model_name": "LayoutModel",
      "state": {
       "_model_module_version": "~2.1.4",
       "_view_module_version": "~2.1.4"
      }
     },
     "bd441c557182407e91f27bd5b015e473": {
      "model_module": "jupyter-js-widgets",
      "model_module_version": "~2.1.4",
      "model_name": "VBoxModel",
      "state": {
       "_dom_classes": [
        "widget-interact"
       ],
       "_model_module_version": "~2.1.4",
       "_view_module_version": "~2.1.4",
       "children": [
        "IPY_MODEL_289090711d7f48d7826aa2f279f05913",
        "IPY_MODEL_ceb851c716324b1caffc86ff7bedf6d3"
       ],
       "layout": "IPY_MODEL_095bfc9f3f9d4b0c9d1403cb663976b8"
      }
     },
     "bfb48d8d057e43e79b1b06f8f7fb7f82": {
      "model_module": "jupyter-js-widgets",
      "model_module_version": "~2.1.4",
      "model_name": "OutputModel",
      "state": {
       "_dom_classes": [],
       "_model_module": "jupyter-js-widgets",
       "_model_module_version": "~2.1.4",
       "_view_module": "jupyter-js-widgets",
       "_view_module_version": "~2.1.4",
       "layout": "IPY_MODEL_02eb965cb5c54a27ba0c0fd1cbeadaea",
       "msg_throttle": 1
      }
     },
     "c1f92e7580e5443e9746602fcf5a82ee": {
      "model_module": "jupyter-js-widgets",
      "model_module_version": "~2.1.4",
      "model_name": "LayoutModel",
      "state": {
       "_model_module_version": "~2.1.4",
       "_view_module_version": "~2.1.4"
      }
     },
     "c7a17be6d5584ea29f0dd3431bacca1d": {
      "model_module": "jupyter-js-widgets",
      "model_module_version": "~2.1.4",
      "model_name": "LayoutModel",
      "state": {
       "_model_module_version": "~2.1.4",
       "_view_module_version": "~2.1.4"
      }
     },
     "ceb851c716324b1caffc86ff7bedf6d3": {
      "model_module": "jupyter-js-widgets",
      "model_module_version": "~2.1.4",
      "model_name": "OutputModel",
      "state": {
       "_dom_classes": [],
       "_model_module": "jupyter-js-widgets",
       "_model_module_version": "~2.1.4",
       "_view_module": "jupyter-js-widgets",
       "_view_module_version": "~2.1.4",
       "layout": "IPY_MODEL_fd440901584c43f895b89b6c858ab56c",
       "msg_throttle": 1
      }
     },
     "d1d9a6e2f4ef4e8c8b9aa8cd586269de": {
      "model_module": "jupyter-js-widgets",
      "model_module_version": "~2.1.4",
      "model_name": "LayoutModel",
      "state": {
       "_model_module_version": "~2.1.4",
       "_view_module_version": "~2.1.4"
      }
     },
     "d29e2f974f364e12882ff5f238d54d69": {
      "model_module": "jupyter-js-widgets",
      "model_module_version": "~2.1.4",
      "model_name": "OutputModel",
      "state": {
       "_dom_classes": [],
       "_model_module": "jupyter-js-widgets",
       "_model_module_version": "~2.1.4",
       "_view_module": "jupyter-js-widgets",
       "_view_module_version": "~2.1.4",
       "layout": "IPY_MODEL_fc85a69e8b804d40ab12ab3a3852716e",
       "msg_throttle": 1
      }
     },
     "dbee375a6214414fbafa66df7517a26f": {
      "model_module": "jupyter-js-widgets",
      "model_module_version": "~2.1.4",
      "model_name": "VBoxModel",
      "state": {
       "_dom_classes": [
        "widget-interact"
       ],
       "_model_module_version": "~2.1.4",
       "_view_module_version": "~2.1.4",
       "children": [
        "IPY_MODEL_6c645e305b374aea92e2cf619aa4b295",
        "IPY_MODEL_d29e2f974f364e12882ff5f238d54d69"
       ],
       "layout": "IPY_MODEL_4765832c3eef44f0a44348aa2176fd4a"
      }
     },
     "e8f5a9cba65d4fbabde935577fb0dfcb": {
      "model_module": "jupyter-js-widgets",
      "model_module_version": "~2.1.4",
      "model_name": "SelectMultipleModel",
      "state": {
       "_model_module_version": "~2.1.4",
       "_options_labels": [
        "11",
        "21",
        "22",
        "23",
        "31",
        "42",
        "44",
        "48",
        "51",
        "52",
        "53",
        "54",
        "55",
        "56",
        "61",
        "62",
        "71",
        "72",
        "81",
        "92",
        "99"
       ],
       "_view_module_version": "~2.1.4",
       "description": "NAICS codes",
       "layout": "IPY_MODEL_6fe5bf01a03b42c486a357124782949e",
       "value": [
        "11",
        "21",
        "22",
        "23",
        "31",
        "42",
        "44",
        "48",
        "51",
        "52",
        "53",
        "54",
        "55",
        "56",
        "61",
        "62",
        "71",
        "72",
        "81",
        "92",
        "99"
       ]
      }
     },
     "f7f22b20603c4820947e764afd15afcb": {
      "model_module": "jupyter-js-widgets",
      "model_module_version": "~2.1.4",
      "model_name": "LayoutModel",
      "state": {
       "_model_module_version": "~2.1.4",
       "_view_module_version": "~2.1.4"
      }
     },
     "fc85a69e8b804d40ab12ab3a3852716e": {
      "model_module": "jupyter-js-widgets",
      "model_module_version": "~2.1.4",
      "model_name": "LayoutModel",
      "state": {
       "_model_module_version": "~2.1.4",
       "_view_module_version": "~2.1.4"
      }
     },
     "fd440901584c43f895b89b6c858ab56c": {
      "model_module": "jupyter-js-widgets",
      "model_module_version": "~2.1.4",
      "model_name": "LayoutModel",
      "state": {
       "_model_module_version": "~2.1.4",
       "_view_module_version": "~2.1.4"
      }
     },
     "fec851f6a85a4b3584308399d45e3e12": {
      "model_module": "jupyter-js-widgets",
      "model_module_version": "~2.1.4",
      "model_name": "OutputModel",
      "state": {
       "_dom_classes": [],
       "_model_module": "jupyter-js-widgets",
       "_model_module_version": "~2.1.4",
       "_view_module": "jupyter-js-widgets",
       "_view_module_version": "~2.1.4",
       "layout": "IPY_MODEL_9981752719674b5eadc443cdab4d59b0",
       "msg_throttle": 1
      }
     },
     "ffa07eb9f0bb414d82536dc678da8eab": {
      "model_module": "jupyter-js-widgets",
      "model_module_version": "~2.1.4",
      "model_name": "LayoutModel",
      "state": {
       "_model_module_version": "~2.1.4",
       "_view_module_version": "~2.1.4"
      }
     }
    },
    "version_major": 1,
    "version_minor": 0
   }
  }
 },
 "nbformat": 4,
 "nbformat_minor": 2
}
