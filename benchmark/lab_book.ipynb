{
 "cells": [
  {
   "cell_type": "markdown",
   "metadata": {},
   "source": [
    "# Benchmark InfoGroup against other datasets"
   ]
  },
  {
   "cell_type": "markdown",
   "metadata": {},
   "source": [
    "# Plan\n",
    "- Donwload Census data\n",
    "  - CBP and BDS\n",
    "  - Store in GCS\n",
    "- Convert Census data into comparable format\n",
    "  - Select years and variables\n",
    "  - Make properly indexed pandas dataframes\n",
    "- Convert InfoGroup data into comparable format\n",
    "  - SQL queries\n",
    "  - pandas dataframes\n",
    "- Benchmark\n",
    "  - Compare with CBP and BDS\n",
    "  - Report tables and figures"
   ]
  },
  {
   "cell_type": "markdown",
   "metadata": {},
   "source": [
    "# TODO\n",
    "- Understand difference in coverage between IG and CBP, BDS\n",
    "  - different industry coverage\n",
    "  - employers, self-employed\n",
    "  - geographies (?)\n",
    "- Adjust for difference, benchmark \"apples to apples\" and explore what's left behind\n",
    "- Report sales data, by size or industry (watch for null)\n",
    "- (minor) use US file to create CBP-by-industry tables.\n",
    "- Benchmark against [Concentration Ratios](https://www.census.gov/econ/concentration.html), based on Economic Census data."
   ]
  },
  {
   "cell_type": "markdown",
   "metadata": {},
   "source": [
    "# Links\n",
    "- [CBP data](https://www.census.gov/programs-surveys/cbp/data/datasets.html)\n",
    "- [BDS](https://www.census.gov/ces/dataproducts/bds/), [data in CSV](https://www.census.gov/ces/dataproducts/bds/data.html), [codebook](https://www.census.gov/ces/pdf/BDS_2014_Codebook.pdf)\n",
    "- [Census API](https://www.census.gov/data/developers/guidance/api-user-guide.html)\n",
    "- [BDS API](https://www.census.gov/data/developers/data-sets/business-dynamics.html)\n",
    "- [geo codes](https://www.census.gov/geo/)\n",
    "- [SIC codes](https://www.osha.gov/pls/imis/sic_manual.html), [machine readable](https://www.census.gov/programs-surveys/cbp/technical-documentation/record-layouts/sic-code-descriptions.html)\n",
    "- [BigQuery SQL reference](https://cloud.google.com/bigquery/docs/reference/standard-sql/)\n",
    "- [IG data](https://bigquery.cloud.google.com/dataset/info-group-162919:original) (BQ)"
   ]
  },
  {
   "cell_type": "markdown",
   "metadata": {},
   "source": [
    "# 30-jun-17 Download CBP data\n",
    "And push it to BigQuery\n",
    "\n",
    "Ziqi downloaded 1986-2014 data to Storage buckets `cbp-txt` and `cbp-csv`.\n",
    "\n",
    "Data documentation:\n",
    "[1986-1997](https://www2.census.gov/programs-surveys/cbp/technical-documentation/records-layouts/full-layout/county_layout_sic.txt),\n",
    "[1998-2006](https://www2.census.gov/programs-surveys/cbp/technical-documentation/records-layouts/full-layout/county_layout.txt),\n",
    "[2007-2013](https://www2.census.gov/programs-surveys/cbp/technical-documentation/records-layouts/noise-layout/county_layout.txt),\n",
    "[2014](https://www2.census.gov/programs-surveys/rhfs/cbp/technical%20documentation/2014_record_layouts/county_layout_2014.txt),\n",
    "[2015](https://www2.census.gov/programs-surveys/rhfs/cbp/technical%20documentation/2015_record_layouts/county_layout_2015.txt)\n",
    "\n",
    "I will start by looking at state - year - naics-2 breakdown, so I will download state CBP files."
   ]
  },
  {
   "cell_type": "markdown",
   "metadata": {},
   "source": [
    "# 02-jul-17 Explore CBP data\n",
    "\n",
    "Thinking that BQ is probably an overkill for my current task. Will just read from CSVs into pandas.\n",
    "\n",
    "Columns changed over years, let's explore them\n",
    "\n",
    "InfoGroup data goes 1997-2015. CBP changes over this period:\n",
    "- switched from SIC to NAICS in 1998 (IG has both NAICS and SIC in 1997)\n",
    "- `nf` columns since 2007 - Noise Flag, don't even need at this point\n",
    "- `lfo` column since 2010 - Legal Form of Organization, interesting but also not important now"
   ]
  },
  {
   "cell_type": "markdown",
   "metadata": {},
   "source": [
    "# 03-jul-17 Convert CBP to dataframe\n",
    "\n",
    "For now, I will ignore 1997, since CBP does not have NAICS there. Later can either translate SIC to NAICS, or benchmark against SIC directly.\n",
    "\n",
    "Upload raw data to CS.\n",
    "\n",
    "Read CBP data into pandas"
   ]
  },
  {
   "cell_type": "markdown",
   "metadata": {},
   "source": [
    "# 05-jul-17 Download IG data\n",
    "Get InfoGroup data from BQ and compare with CBP.\n",
    "\n",
    "Create small random sample of data for testing.\n",
    "\n",
    "```sql\n",
    "select * from `original.data` where rand() < 0.01;\n",
    "```"
   ]
  },
  {
   "cell_type": "markdown",
   "metadata": {},
   "source": [
    "# 07-jul-17 Add establishments count to CBP\n",
    "Makes sense to compare them together with employment."
   ]
  },
  {
   "cell_type": "markdown",
   "metadata": {},
   "source": [
    "# 11-jul-17 Compare CBP and IG\n",
    "\n",
    "Download NAICS descriptions. Over time the only change in 2-digit codes was that \"Mining\" changed to \"Mining, Quarrying, and Oil and Gas Extraction\" between 2002 and 2007.\n",
    "\n",
    "Align CBP and IG dataframes for comparison. Save comparison-ready tables\n",
    "\n",
    "Compare conclusions:\n",
    "- In aggregate, IG shows 50-100% more establishments and 10-30% more employees than CBP\n",
    "- Difference grows over time\n",
    "- There are not many outliers across states\n",
    "- Very strong outliers in industries: too much 99, 92, 11, 61, too little 55.\n",
    "- Patterns are similar between establishments and employment"
   ]
  },
  {
   "cell_type": "markdown",
   "metadata": {},
   "source": [
    "# 25-jul-17 Interactive heatmaps\n",
    "Made some interactive heatmaps with `seaborn` and `ipywidgets`, but could not find a way to save widgets and plots in a notebook for non-interactive view. `bokeh` is another option, might try it sometime."
   ]
  },
  {
   "cell_type": "markdown",
   "metadata": {},
   "source": [
    "# 09-aug-17 Compare IG and BDS\n",
    "\n",
    "NAICS is not available, only most aggregate SIC sectors.\n",
    "\n",
    "There are no CSVs that had state by sector aggregation. There is HTTP API, however it looks like it only supports same aggregations available for downloads: either by sector, or by state. It is pretty cool though, so I will use it here.\n"
   ]
  },
  {
   "cell_type": "markdown",
   "metadata": {},
   "source": [
    "# 21-aug-17 Clean up lab book\n",
    "\n",
    "Removed all code, it should be in `benchmark.ipynb`."
   ]
  },
  {
   "cell_type": "markdown",
   "metadata": {},
   "source": [
    "# 22-aug-17 Improve raw data downloads\n",
    "\n",
    "Update code to download CBP and BDS data to GCS.\n",
    "\n",
    "For now, only state CBP files.\n",
    "\n",
    "Metadata is stored in `census.json`."
   ]
  },
  {
   "cell_type": "markdown",
   "metadata": {},
   "source": [
    "# 23-aug-17 Refactor CBP processing\n",
    "\n",
    "Remove CBP documentation download, not useful right now. Maybe download it if choose to download all Census data.\n",
    "\n",
    "Update CBP exploration and conversion to pandas."
   ]
  },
  {
   "cell_type": "markdown",
   "metadata": {},
   "source": [
    "# 24-aug-17 Read BDS, IG into pandas\n",
    "\n",
    "Remove BDS download via API, get CSV files from GCS.\n",
    "\n",
    "Read BDS into pandas.\n",
    "\n",
    "Working with NAICS codes, got thinking: how important are changes introduced by code updates? Nothing happens at top 2-digit level, but how deep are the changes? Applies to SIC too.\n",
    "\n",
    "Add state, SIC and NAICS code maps to GCS.\n",
    "\n",
    "Read IG into pandas."
   ]
  },
  {
   "cell_type": "markdown",
   "metadata": {
    "ExecuteTime": {
     "end_time": "2017-09-05T23:03:25.810743Z",
     "start_time": "2017-09-05T23:03:25.799873Z"
    }
   },
   "source": [
    "# 05-sep-17 `dill` module to save/load sessions\n",
    "\n",
    "This module looks cool and should be very simple to use, but in my case it fails to load pickled session. Tried to understand why, but could not trace back the error. It is somewhere between `dill.Unpickler` and `pickle.Unpickler` class.\n",
    "\n",
    "For now, might be safer to use basic `pickle`."
   ]
  },
  {
   "cell_type": "markdown",
   "metadata": {},
   "source": [
    "# 06-sep-17 Finish cleaning up benchmarks notebook\n",
    "\n",
    "Replaced old comparisons with new ones, removed interactive widgets"
   ]
  },
  {
   "cell_type": "markdown",
   "metadata": {},
   "source": [
    "# 08-sep-17 Explore IG\n",
    "\n",
    "Learning more BQ.\n",
    "\n",
    "It might be a good idea to [partition table by year](https://cloud.google.com/bigquery/docs/creating-partitioned-tables).\n",
    "\n",
    "Query IG by size.\n",
    "\n",
    "When comparing by size, keep in mind that BDS takes either `t-1` or average `(t-1, t)` size."
   ]
  },
  {
   "cell_type": "markdown",
   "metadata": {},
   "source": [
    "# 15-sep-17 Compare by size\n",
    "\n",
    "Meta finder.\n",
    "\n",
    "IG against BDS."
   ]
  },
  {
   "cell_type": "markdown",
   "metadata": {},
   "source": [
    "# 18-sep-17\n",
    "\n",
    "Download US CBP files from Census.\n",
    "\n",
    "Compare IG vs CBP by size.\n",
    "\n",
    "Started computing entry and exit in BQ."
   ]
  }
 ],
 "metadata": {
  "kernelspec": {
   "display_name": "Python 3",
   "language": "python",
   "name": "python3"
  },
  "language_info": {
   "codemirror_mode": {
    "name": "ipython",
    "version": 3
   },
   "file_extension": ".py",
   "mimetype": "text/x-python",
   "name": "python",
   "nbconvert_exporter": "python",
   "pygments_lexer": "ipython3",
   "version": "3.6.2"
  },
  "toc": {
   "colors": {
    "hover_highlight": "#DAA520",
    "navigate_num": "#000000",
    "navigate_text": "#333333",
    "running_highlight": "#FF0000",
    "selected_highlight": "#FFD700",
    "sidebar_border": "#EEEEEE",
    "wrapper_background": "#FFFFFF"
   },
   "moveMenuLeft": true,
   "nav_menu": {
    "height": "512px",
    "width": "252px"
   },
   "navigate_menu": true,
   "number_sections": false,
   "sideBar": true,
   "threshold": 4,
   "toc_cell": false,
   "toc_position": {
    "height": "884px",
    "left": "0px",
    "right": "1708px",
    "top": "66px",
    "width": "212px"
   },
   "toc_section_display": "block",
   "toc_window_display": true,
   "widenNotebook": false
  }
 },
 "nbformat": 4,
 "nbformat_minor": 2
}
