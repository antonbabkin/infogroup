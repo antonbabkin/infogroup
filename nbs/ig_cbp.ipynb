{
 "cells": [
  {
   "cell_type": "markdown",
   "metadata": {},
   "source": [
    "# Comparing InfoGroup with County Business Patterns\n",
    "\n",
    "This notebook logs a lot of preparations. Final figures are at the bottom.\n",
    "\n",
    "Comparison by state, 2-digit NAICS industry and year. Years covered: 1998-2015."
   ]
  },
  {
   "cell_type": "markdown",
   "metadata": {},
   "source": [
    "## Download state level CBP data from Census\n",
    "\n",
    "Raw text data files and documentation."
   ]
  },
  {
   "cell_type": "code",
   "execution_count": 1,
   "metadata": {
    "collapsed": true
   },
   "outputs": [],
   "source": [
    "import requests\n",
    "from io import BytesIO\n",
    "from zipfile import ZipFile\n",
    "import os"
   ]
  },
  {
   "cell_type": "code",
   "execution_count": 2,
   "metadata": {
    "collapsed": true
   },
   "outputs": [],
   "source": [
    "years = list(range(1986, 2016))\n",
    "path_raw = 'raw/cbp{y}st.txt'\n",
    "path_doc = 'raw/docs/{y}.txt'"
   ]
  },
  {
   "cell_type": "code",
   "execution_count": 4,
   "metadata": {
    "collapsed": true
   },
   "outputs": [],
   "source": [
    "def _make_dir(file_path):\n",
    "    d = os.path.dirname(file_path)\n",
    "    if not os.path.exists(d):\n",
    "        os.makedirs(d)\n",
    "\n",
    "_make_dir(path_raw)\n",
    "_make_dir(path_doc)"
   ]
  },
  {
   "cell_type": "code",
   "execution_count": 5,
   "metadata": {
    "collapsed": true
   },
   "outputs": [],
   "source": [
    "def get_raw_data(y):\n",
    "    y2 = str(y)[2:]\n",
    "    dst = path_raw.format(y=y2)\n",
    "    if os.path.exists(dst):\n",
    "        print('get_raw_data: {} already exists'.format(dst))\n",
    "        return\n",
    "    \n",
    "    print('get_raw_data: {y} started'.format(y=y))\n",
    "    url = 'https://www2.census.gov/programs-surveys/cbp/datasets/{y4}/cbp{y2}st.zip'.format(y4=y, y2=y2)\n",
    "    r = requests.get(url)\n",
    "    if r.status_code != 200:\n",
    "        print('get_raw_data: {y} failed: {e}'.format(y=y, e=r.reason))\n",
    "        r.raise_for_status()\n",
    "    \n",
    "    zf = ZipFile(BytesIO(r.content))\n",
    "    downloaded_name = zf.namelist()[0]\n",
    "    zf.extractall()\n",
    "    os.rename(downloaded_name, dst)\n",
    "    print('get_raw_data: {y} finished'.format(y=y))"
   ]
  },
  {
   "cell_type": "code",
   "execution_count": 6,
   "metadata": {
    "collapsed": true
   },
   "outputs": [],
   "source": [
    "def get_raw_docs():\n",
    "    print('get_raw_docs started')\n",
    "    url_stub = 'https://www2.census.gov/programs-surveys/'\n",
    "    urls = {\n",
    "        '1986-1997': 'cbp/technical-documentation/records-layouts/full-layout/state_layout_sic.txt',\n",
    "        '1998-2006': 'cbp/technical-documentation/records-layouts/full-layout/state_layout.txt',\n",
    "        '2007-2009': 'cbp/technical-documentation/records-layouts/noise-layout/state_layout.txt',\n",
    "        '2010-2013': 'cbp/technical-documentation/records-layouts/noise-layout/state_x_lfo_layout.txt',\n",
    "        '2014': 'rhfs/cbp/technical%20documentation/2014_record_layouts/state_layout_2014.txt',\n",
    "        '2015': 'rhfs/cbp/technical%20documentation/2015_record_layouts/state_layout_2015.txt'\n",
    "    }\n",
    "    for y, u in urls.items():\n",
    "        url = url_stub + u\n",
    "        r = requests.get(url)\n",
    "        if r.status_code != 200:\n",
    "            print('get_raw_docs: {y} failed: {e}'.format(y=y, e=r.reason))\n",
    "            r.raise_for_status()\n",
    "        \n",
    "        with open(path_doc.format(y=y), 'w') as f:\n",
    "            f.write(r.text)\n",
    "    \n",
    "    print('get_raw_docs finished')"
   ]
  },
  {
   "cell_type": "code",
   "execution_count": 7,
   "metadata": {},
   "outputs": [
    {
     "name": "stdout",
     "output_type": "stream",
     "text": [
      "get_raw_data: 1986 started\n",
      "get_raw_data: 1986 finished\n",
      "get_raw_data: 1987 started\n",
      "get_raw_data: 1987 finished\n",
      "get_raw_data: 1988 started\n",
      "get_raw_data: 1988 finished\n",
      "get_raw_data: 1989 started\n",
      "get_raw_data: 1989 finished\n",
      "get_raw_data: 1990 started\n",
      "get_raw_data: 1990 finished\n",
      "get_raw_data: 1991 started\n",
      "get_raw_data: 1991 finished\n",
      "get_raw_data: 1992 started\n",
      "get_raw_data: 1992 finished\n",
      "get_raw_data: 1993 started\n",
      "get_raw_data: 1993 finished\n",
      "get_raw_data: 1994 started\n",
      "get_raw_data: 1994 finished\n",
      "get_raw_data: 1995 started\n",
      "get_raw_data: 1995 finished\n",
      "get_raw_data: 1996 started\n",
      "get_raw_data: 1996 finished\n",
      "get_raw_data: 1997 started\n",
      "get_raw_data: 1997 finished\n",
      "get_raw_data: 1998 started\n",
      "get_raw_data: 1998 finished\n",
      "get_raw_data: 1999 started\n",
      "get_raw_data: 1999 finished\n",
      "get_raw_data: 2000 started\n",
      "get_raw_data: 2000 finished\n",
      "get_raw_data: 2001 started\n",
      "get_raw_data: 2001 finished\n",
      "get_raw_data: 2002 started\n",
      "get_raw_data: 2002 finished\n",
      "get_raw_data: 2003 started\n",
      "get_raw_data: 2003 finished\n",
      "get_raw_data: 2004 started\n",
      "get_raw_data: 2004 finished\n",
      "get_raw_data: 2005 started\n",
      "get_raw_data: 2005 finished\n",
      "get_raw_data: 2006 started\n",
      "get_raw_data: 2006 finished\n",
      "get_raw_data: 2007 started\n",
      "get_raw_data: 2007 finished\n",
      "get_raw_data: 2008 started\n",
      "get_raw_data: 2008 finished\n",
      "get_raw_data: 2009 started\n",
      "get_raw_data: 2009 finished\n",
      "get_raw_data: 2010 started\n",
      "get_raw_data: 2010 finished\n",
      "get_raw_data: 2011 started\n",
      "get_raw_data: 2011 finished\n",
      "get_raw_data: 2012 started\n",
      "get_raw_data: 2012 finished\n",
      "get_raw_data: 2013 started\n",
      "get_raw_data: 2013 finished\n",
      "get_raw_data: 2014 started\n",
      "get_raw_data: 2014 finished\n",
      "get_raw_data: 2015 started\n",
      "get_raw_data: 2015 finished\n",
      "get_raw_docs started\n",
      "get_raw_docs finished\n"
     ]
    }
   ],
   "source": [
    "for y in years:\n",
    "    get_raw_data(y)\n",
    "get_raw_docs()"
   ]
  },
  {
   "cell_type": "markdown",
   "metadata": {},
   "source": [
    "### Upload to CS"
   ]
  },
  {
   "cell_type": "code",
   "execution_count": 8,
   "metadata": {},
   "outputs": [
    {
     "name": "stdout",
     "output_type": "stream",
     "text": [
      "Skipping existing item: gs://ig-census-cbp/raw/state/cbp08st.txt\n",
      "Skipping existing item: gs://ig-census-cbp/raw/state/cbp03st.txt\n",
      "Skipping existing item: gs://ig-census-cbp/raw/state/cbp10st.txt\n",
      "Skipping existing item: gs://ig-census-cbp/raw/state/cbp07st.txt\n",
      "Skipping existing item: gs://ig-census-cbp/raw/state/cbp04st.txt\n",
      "Skipping existing item: gs://ig-census-cbp/raw/state/cbp00st.txt\n",
      "Skipping existing item: gs://ig-census-cbp/raw/state/cbp15st.txt\n",
      "Skipping existing item: gs://ig-census-cbp/raw/state/cbp13st.txt\n",
      "Skipping existing item: gs://ig-census-cbp/raw/state/cbp02st.txt\n",
      "Skipping existing item: gs://ig-census-cbp/raw/state/cbp09st.txt\n",
      "Skipping existing item: gs://ig-census-cbp/raw/state/cbp05st.txt\n",
      "Skipping existing item: gs://ig-census-cbp/raw/state/cbp14st.txt\n",
      "Skipping existing item: gs://ig-census-cbp/raw/state/cbp06st.txt\n",
      "Skipping existing item: gs://ig-census-cbp/raw/state/cbp12st.txt\n",
      "Skipping existing item: gs://ig-census-cbp/raw/state/cbp94st.txt\n",
      "Skipping existing item: gs://ig-census-cbp/raw/state/cbp11st.txt\n",
      "Skipping existing item: gs://ig-census-cbp/raw/state/cbp89st.txt\n",
      "Skipping existing item: gs://ig-census-cbp/raw/state/cbp88st.txt\n",
      "Skipping existing item: gs://ig-census-cbp/raw/state/cbp96st.txt\n",
      "Skipping existing item: gs://ig-census-cbp/raw/state/cbp86st.txt\n",
      "Skipping existing item: gs://ig-census-cbp/raw/state/cbp91st.txt\n",
      "Skipping existing item: gs://ig-census-cbp/raw/state/cbp90st.txt\n",
      "Skipping existing item: gs://ig-census-cbp/raw/state/cbp93st.txt\n",
      "Skipping existing item: gs://ig-census-cbp/raw/state/cbp92st.txt\n",
      "Skipping existing item: gs://ig-census-cbp/raw/state/cbp98st.txt\n",
      "Skipping existing item: gs://ig-census-cbp/raw/state/cbp99st.txt\n",
      "Skipping existing item: gs://ig-census-cbp/raw/state/cbp87st.txt\n",
      "Skipping existing item: gs://ig-census-cbp/raw/state/cbp97st.txt\n",
      "Skipping existing item: gs://ig-census-cbp/raw/state/cbp95st.txt\n",
      "Skipping existing item: gs://ig-census-cbp/raw/state/docs/1998-2006.txt\n",
      "Skipping existing item: gs://ig-census-cbp/raw/state/docs/2015.txt\n",
      "Skipping existing item: gs://ig-census-cbp/raw/state/docs/2007-2009.txt\n",
      "Skipping existing item: gs://ig-census-cbp/raw/state/docs/1986-1997.txt\n",
      "Skipping existing item: gs://ig-census-cbp/raw/state/docs/2010-2013.txt\n",
      "Skipping existing item: gs://ig-census-cbp/raw/state/docs/2014.txt\n"
     ]
    }
   ],
   "source": [
    "!gsutil -m cp -r -n raw/* gs://ig-census-cbp/raw/state/"
   ]
  },
  {
   "cell_type": "markdown",
   "metadata": {},
   "source": [
    "## Explore CBP data and convert to pandas DataFrame\n"
   ]
  },
  {
   "cell_type": "markdown",
   "metadata": {},
   "source": [
    "### Columns changed over years"
   ]
  },
  {
   "cell_type": "code",
   "execution_count": 21,
   "metadata": {},
   "outputs": [
    {
     "data": {
      "text/plain": [
       "'raw/cbpzst.txt'"
      ]
     },
     "execution_count": 21,
     "metadata": {},
     "output_type": "execute_result"
    }
   ],
   "source": [
    "import pandas as pd\n",
    "path_raw.format(y='z')"
   ]
  },
  {
   "cell_type": "code",
   "execution_count": 22,
   "metadata": {},
   "outputs": [],
   "source": [
    "# Read column lists for all years\n",
    "raw_cols = {}\n",
    "cols = {}\n",
    "all_cols = []\n",
    "for y in years:\n",
    "    y2 = str(y)[2:]\n",
    "    df = pd.read_csv(path_raw.format(y=y2), nrows=1)\n",
    "    raw_cols[y] = list(df.columns)\n",
    "    cols[y] = list(df.columns.str.lower())\n",
    "    for c in cols[y]:\n",
    "        if c not in all_cols:\n",
    "            all_cols.append(c)"
   ]
  },
  {
   "cell_type": "code",
   "execution_count": null,
   "metadata": {
    "collapsed": true
   },
   "outputs": [],
   "source": [
    "# Create table where columns that existed in year are marked with 1s, otherwise 0\n",
    "col_by_year = pd.DataFrame(0, index=all_cols, columns=years)\n",
    "for y in years:\n",
    "    col_by_year.loc[cols[y], y] = 1\n",
    "\n",
    "pd.options.display.max_columns = 40\n",
    "pd.options.display.max_rows = 100\n",
    "col_by_year.loc[:, 1997:]"
   ]
  },
  {
   "cell_type": "markdown",
   "metadata": {},
   "source": [
    "InfoGroup data goes 1997-2015. CBP changes over this period:\n",
    "- switched from SIC to NAICS in 1998 (IG has both NAICS and SIC in 1997)\n",
    "- `nf` columns since 2007 - Noise Flag, don't even need at this point\n",
    "- `lfo` column since 2010 - Legal Form of Organization, interesting but also not important now"
   ]
  },
  {
   "cell_type": "markdown",
   "metadata": {},
   "source": [
    "### Read CBP data into pandas"
   ]
  },
  {
   "cell_type": "code",
   "execution_count": null,
   "metadata": {
    "collapsed": true
   },
   "outputs": [],
   "source": [
    "years = list(range(1998, 2016))\n",
    "path_raw = 'raw/cbp{y2}st.txt'"
   ]
  },
  {
   "cell_type": "code",
   "execution_count": null,
   "metadata": {
    "collapsed": true
   },
   "outputs": [],
   "source": [
    "df_raw = {}\n",
    "for y in years:\n",
    "    y2 = str(y)[2:]\n",
    "    cols = ['fipstate', 'naics', 'emp', 'est']\n",
    "    if y >= 2010: cols.append('lfo')\n",
    "    if y == 2015: cols = [x.upper() for x in cols]\n",
    "    df = pd.read_csv(path_raw.format(y2=y2), dtype='object', usecols=cols)\n",
    "    if y == 2015: df.columns = df.columns.str.lower()\n",
    "    if y >= 2010:\n",
    "        df = df[df.lfo == '-']\n",
    "        df = df.drop('lfo', axis=1)\n",
    "    df = df[df.naics.str[2:] == '----']\n",
    "    df_raw[y] = df"
   ]
  },
  {
   "cell_type": "code",
   "execution_count": null,
   "metadata": {
    "collapsed": true
   },
   "outputs": [],
   "source": [
    "# Eyeball read errors\n",
    "for y in years:\n",
    "    print(y, len(df_raw[y]), len(df_raw[y].fipstate.unique()), len(df_raw[y].naics.str[:2].unique()))"
   ]
  },
  {
   "cell_type": "code",
   "execution_count": null,
   "metadata": {
    "collapsed": true
   },
   "outputs": [],
   "source": [
    "state_codes = pd.read_csv('https://www2.census.gov/geo/docs/reference/state.txt', delimiter='|', dtype='object')\n",
    "state_codes"
   ]
  },
  {
   "cell_type": "code",
   "execution_count": null,
   "metadata": {
    "collapsed": true
   },
   "outputs": [],
   "source": [
    "state_nn_to_aa = dict(zip(state_codes.STATE, state_codes.STUSAB))\n",
    "state_nn_to_aa"
   ]
  },
  {
   "cell_type": "code",
   "execution_count": null,
   "metadata": {
    "collapsed": true
   },
   "outputs": [],
   "source": [
    "dfs = {}\n",
    "for y, df in df_raw.items():\n",
    "    df = df.copy()\n",
    "    df.columns = ['state', 'naics', 'emp', 'est']\n",
    "    df.state = df.state.map(state_nn_to_aa)\n",
    "    df.naics = df.naics.str[:2]\n",
    "    df = df[df.naics != '--']\n",
    "    df = df.set_index(['state', 'naics'])\n",
    "    dfs[y] = df"
   ]
  },
  {
   "cell_type": "code",
   "execution_count": null,
   "metadata": {
    "collapsed": true
   },
   "outputs": [],
   "source": [
    "cbp = pd.concat(dfs, axis=1)\n",
    "cbp = cbp.astype(pd.np.float64)\n",
    "cbp = cbp.swaplevel(0, 1, axis=1).sort_index(axis=1)\n",
    "\n",
    "cbp.to_pickle('cbp_st_n2_y.gz')\n",
    "\n",
    "cbp"
   ]
  },
  {
   "cell_type": "markdown",
   "metadata": {},
   "source": [
    "## Query InfoGroup data and save as DataFrame\n"
   ]
  },
  {
   "cell_type": "code",
   "execution_count": null,
   "metadata": {
    "collapsed": true
   },
   "outputs": [],
   "source": [
    "import uuid\n",
    "from google.cloud import bigquery\n",
    "import pandas as pd"
   ]
  },
  {
   "cell_type": "code",
   "execution_count": null,
   "metadata": {
    "collapsed": true
   },
   "outputs": [],
   "source": [
    "def wait_for_job(job):\n",
    "    import time\n",
    "    while True:\n",
    "        job.reload()  # Refreshes the state via a GET request.\n",
    "        if job.state == 'DONE':\n",
    "            if job.error_result:\n",
    "                raise RuntimeError(job.errors)\n",
    "            print('Job finished successfully in {}.'.format(job.ended - job.created))\n",
    "            return\n",
    "        time.sleep(1)"
   ]
  },
  {
   "cell_type": "code",
   "execution_count": null,
   "metadata": {
    "collapsed": true
   },
   "outputs": [],
   "source": [
    "# Something's wrong with this one, need to test and debug, or use pd.read_gbq()\n",
    "def async_query(query):\n",
    "    client = bigquery.Client()\n",
    "    query_job = client.run_async_query(str(uuid.uuid4()), query)\n",
    "    query_job.use_legacy_sql = False\n",
    "    query_job.begin()\n",
    "\n",
    "    wait_for_job(query_job)\n",
    "    \n",
    "    # Return results rows\n",
    "    query_results = query_job.results()\n",
    "    query_results.fetch_data()\n",
    "    field_names = tuple([x.name for x in query_results.schema])\n",
    "    return [field_names] + query_results.rows"
   ]
  },
  {
   "cell_type": "code",
   "execution_count": null,
   "metadata": {
    "collapsed": true
   },
   "outputs": [],
   "source": [
    "query = '''\n",
    "SELECT\n",
    "  substr(naics, 1, 2) as naics2,\n",
    "  year,\n",
    "  state,\n",
    "  COUNT(*) as est,\n",
    "  SUM(employees) as emp\n",
    "FROM\n",
    "  `original.data`\n",
    "GROUP BY\n",
    "  year, state, naics2\n",
    "ORDER BY\n",
    "  year, state, naics2;\n",
    "'''\n",
    "\n",
    "ig_raw = async_query(query)"
   ]
  },
  {
   "cell_type": "code",
   "execution_count": null,
   "metadata": {
    "collapsed": true
   },
   "outputs": [],
   "source": [
    "ig = pd.DataFrame(ig_raw[1:], columns=ig_raw[0])\n",
    "ig.columns = ['naics', 'year', 'state', 'est', 'emp']\n",
    "\n",
    "# naics = '99' is 'unknown industry'\n",
    "ig = ig.fillna({'naics': '99', 'emp': 0})\n",
    "ig = ig.groupby(['year', 'state', 'naics']).sum()\n",
    "ig = ig.unstack('year')\n",
    "\n",
    "ig"
   ]
  },
  {
   "cell_type": "code",
   "execution_count": null,
   "metadata": {
    "collapsed": true
   },
   "outputs": [],
   "source": [
    "ig.to_pickle('ig_st_n2_y.gz')"
   ]
  },
  {
   "cell_type": "markdown",
   "metadata": {},
   "source": [
    "## Align CBP and IG dataframes for comparison"
   ]
  },
  {
   "cell_type": "markdown",
   "metadata": {},
   "source": [
    "### Get NAICS descriptions"
   ]
  },
  {
   "cell_type": "code",
   "execution_count": null,
   "metadata": {
    "collapsed": true
   },
   "outputs": [],
   "source": [
    "# NAICS descriptions\n",
    "url = {\n",
    "    1997: 'https://www.census.gov/eos/www/naics/reference_files_tools/1997/1997.html',\n",
    "    2002: 'https://www.census.gov/cgi-bin/sssd/naics/naicsrch?chart=2002',\n",
    "    2007: 'https://www.census.gov/cgi-bin/sssd/naics/naicsrch?chart=2007',\n",
    "    2012: 'https://www.census.gov/cgi-bin/sssd/naics/naicsrch?chart=2012',\n",
    "    2017: 'https://www.census.gov/cgi-bin/sssd/naics/naicsrch?chart=2017'\n",
    "}\n",
    "\n",
    "naics = {}\n",
    "for y, u in url.items():\n",
    "    naics[y] = pd.read_html(u)[0]"
   ]
  },
  {
   "cell_type": "code",
   "execution_count": null,
   "metadata": {
    "collapsed": true
   },
   "outputs": [],
   "source": [
    "# what changed over years?\n",
    "naics_years = list(naics.keys())\n",
    "for y0, y1 in zip(naics_years[:-1], naics_years[1:]):\n",
    "    print(y0, y1)\n",
    "    print((naics[y0] == naics[y1]).sum())"
   ]
  },
  {
   "cell_type": "code",
   "execution_count": null,
   "metadata": {
    "collapsed": true
   },
   "outputs": [],
   "source": [
    "# the only difference was \"Mining\" changed to \"Mining, Quarrying, and Oil and Gas Extraction\" between 2002 and 2007.\n",
    "pd.concat([naics[2002], naics[2007]], axis=1)"
   ]
  },
  {
   "cell_type": "code",
   "execution_count": null,
   "metadata": {
    "collapsed": true
   },
   "outputs": [],
   "source": [
    "# map codes into descriptions, using 2012 table\n",
    "y = 2012\n",
    "codes = naics[y].iloc[1:, 0]\n",
    "codes = codes.str[:2]\n",
    "desc = naics[y].iloc[1:, 1]\n",
    "naics = dict(zip(codes, desc))\n",
    "naics['99'] = 'Unknown'"
   ]
  },
  {
   "cell_type": "code",
   "execution_count": null,
   "metadata": {
    "collapsed": true
   },
   "outputs": [],
   "source": [
    "cbp = pd.read_pickle('cbp_st_n2_y.gz')\n",
    "cbp.index.get_level_values('naics').unique()\n",
    "# for ranges in description table, only first number appears in cbp tables: \"48-49\" - only \"48\", etc.\n",
    "\n",
    "ig = pd.read_pickle('ig_st_n2_y.gz')"
   ]
  },
  {
   "cell_type": "code",
   "execution_count": null,
   "metadata": {
    "collapsed": true
   },
   "outputs": [],
   "source": [
    "cbp_rows = pd.Series(index=cbp.index)\n",
    "cbp_rows = cbp_rows.fillna(True).astype(bool)\n",
    "ig_rows = pd.Series(index=ig.index)\n",
    "ig_rows = ig_rows.fillna(True).astype(bool)\n",
    "common_rows = pd.concat([cbp_rows, ig_rows], axis=1).fillna(False)\n",
    "common_rows.columns = ['cbp', 'ig']\n",
    "common_rows[~common_rows.all(1)]"
   ]
  },
  {
   "cell_type": "code",
   "execution_count": null,
   "metadata": {
    "collapsed": true
   },
   "outputs": [],
   "source": [
    "# Range codes should be combined in IG: \"31-33\", \"44-45\", \"48-49\".\n",
    "ig = ig.reset_index()\n",
    "ig.naics = ig.naics.replace({'32': '31', '33': '31', '45': '44', '49': '48'})\n",
    "ig = ig.groupby(['state', 'naics']).sum()"
   ]
  },
  {
   "cell_type": "code",
   "execution_count": null,
   "metadata": {
    "collapsed": true
   },
   "outputs": [],
   "source": [
    "# Why is 95 in CBP? Is it '92': 'Public Administration'? For now, let's assume it is.\n",
    "cbp.index = cbp.index.set_levels(pd.Series(cbp.index.levels[1]).replace({'95': '92'}), level=1)"
   ]
  },
  {
   "cell_type": "code",
   "execution_count": null,
   "metadata": {
    "collapsed": true
   },
   "outputs": [],
   "source": [
    "# Repeat same check: PR and VI states missing in CBP\n",
    "cbp_rows = pd.Series(index=cbp.index)\n",
    "cbp_rows = cbp_rows.fillna(True).astype(bool)\n",
    "ig_rows = pd.Series(index=ig.index)\n",
    "ig_rows = ig_rows.fillna(True).astype(bool)\n",
    "common_rows = pd.concat([cbp_rows, ig_rows], axis=1).fillna(False)\n",
    "common_rows.columns = ['cbp', 'ig']\n",
    "common_rows['both'] = common_rows.cbp & common_rows.ig\n",
    "common_rows[~common_rows.both]"
   ]
  },
  {
   "cell_type": "markdown",
   "metadata": {},
   "source": [
    "### Save comparison ready tables"
   ]
  },
  {
   "cell_type": "code",
   "execution_count": null,
   "metadata": {
    "collapsed": true
   },
   "outputs": [],
   "source": [
    "idx = pd.IndexSlice\n",
    "ig.loc[common_rows.both, idx[:, 1998:]].to_pickle('ig_cmp.gz')\n",
    "cbp.loc[common_rows.both, :].to_pickle('cbp_cmp.gz')"
   ]
  },
  {
   "cell_type": "code",
   "execution_count": null,
   "metadata": {
    "collapsed": true
   },
   "outputs": [],
   "source": [
    "!gsutil cp *cmp.gz gs://ig-anton/"
   ]
  },
  {
   "cell_type": "markdown",
   "metadata": {},
   "source": [
    "# Visually compare IG vs CBP\n",
    "\n",
    "Every chart shows IG-to-CBP ratios of total number of establishments or employment in a given cell. Values greater or less than 1 imply that IG overstates or understates CBP numbers, respectively. "
   ]
  },
  {
   "cell_type": "code",
   "execution_count": 1,
   "metadata": {},
   "outputs": [
    {
     "name": "stderr",
     "output_type": "stream",
     "text": [
      "Copying gs://ig-anton/ig_cmp.gz...\n",
      "/ [0 files][    0.0 B/120.1 KiB]                                                \r",
      "/ [1 files][120.1 KiB/120.1 KiB]                                                \r\n",
      "Operation completed over 1 objects/120.1 KiB.                                    \n",
      "Copying gs://ig-anton/cbp_cmp.gz...\n",
      "/ [0 files][    0.0 B/112.9 KiB]                                                \r",
      "/ [1 files][112.9 KiB/112.9 KiB]                                                \r\n",
      "Operation completed over 1 objects/112.9 KiB.                                    \n"
     ]
    }
   ],
   "source": [
    "%%bash\n",
    "# download comparison-ready tables to local disk\n",
    "gsutil cp gs://ig-anton/ig_cmp.gz .\n",
    "gsutil cp gs://ig-anton/cbp_cmp.gz ."
   ]
  },
  {
   "cell_type": "code",
   "execution_count": 2,
   "metadata": {
    "collapsed": true
   },
   "outputs": [],
   "source": [
    "# Load data\n",
    "import pandas as pd\n",
    "ig = pd.read_pickle('ig_cmp.gz')\n",
    "cbp = pd.read_pickle('cbp_cmp.gz')\n",
    "naics = {\n",
    "    '11': 'Agriculture, Forestry, Fishing and Hunting',\n",
    "    '21': 'Mining, Quarrying, and Oil and Gas Extraction',\n",
    "    '22': 'Utilities',\n",
    "    '23': 'Construction',\n",
    "    '31': 'Manufacturing',\n",
    "    '42': 'Wholesale Trade',\n",
    "    '44': 'Retail Trade',\n",
    "    '48': 'Transportation and Warehousing',\n",
    "    '51': 'Information',\n",
    "    '52': 'Finance and Insurance',\n",
    "    '53': 'Real Estate and Rental and Leasing',\n",
    "    '54': 'Professional, Scientific, and Technical Services',\n",
    "    '55': 'Management of Companies and Enterprises',\n",
    "    '56': 'Administrative and Support and Waste Management and Remediation Services',\n",
    "    '61': 'Educational Services',\n",
    "    '62': 'Health Care and Social Assistance',\n",
    "    '71': 'Arts, Entertainment, and Recreation',\n",
    "    '72': 'Accommodation and Food Services',\n",
    "    '81': 'Other Services (except Public Administration)',\n",
    "    '92': 'Public Administration',\n",
    "    '99': 'Unknown'}\n",
    "naics = {k: k + ' - ' + v for k, v in naics.items()}"
   ]
  },
  {
   "cell_type": "code",
   "execution_count": 3,
   "metadata": {
    "collapsed": true
   },
   "outputs": [],
   "source": [
    "# Compute IG / CBP ratios\n",
    "dif = {}\n",
    "idx = pd.IndexSlice\n",
    "for var in ['emp', 'est']:\n",
    "    dif[var] = {}\n",
    "    ig_cmp = ig.loc[:, idx[var, :]]\n",
    "    cbp_cmp = cbp.loc[:, idx[var, :]]        \n",
    "    \n",
    "    for agg in ['state', 'naics']:\n",
    "        dif[var][agg] = d = ig_cmp.sum(level=agg) / cbp_cmp.sum(level=agg)\n",
    "        d.loc['total', :] = ig_cmp.sum() / cbp_cmp.sum()"
   ]
  },
  {
   "cell_type": "code",
   "execution_count": 10,
   "metadata": {
    "collapsed": true
   },
   "outputs": [],
   "source": [
    "# Prepare plotting tools\n",
    "import matplotlib.pyplot as plt\n",
    "import seaborn as sns\n",
    "from ipywidgets import interact, SelectMultiple, Layout, fixed\n",
    "\n",
    "def show_by_naics(codes, var):\n",
    "    rows = list(codes) + ['total']\n",
    "    row_names = [naics[x] for x in codes] + ['total']\n",
    "    d = dif[var]['naics']\n",
    "    d = d.loc[rows, :]\n",
    "    d.index = row_names\n",
    "    sns.heatmap(d)\n",
    "    plt.show()"
   ]
  },
  {
   "cell_type": "markdown",
   "metadata": {},
   "source": [
    "## Establishments by state and year"
   ]
  },
  {
   "cell_type": "code",
   "execution_count": 5,
   "metadata": {},
   "outputs": [
    {
     "name": "stderr",
     "output_type": "stream",
     "text": [
      "/home/anton/miniconda3/lib/python3.6/site-packages/matplotlib/font_manager.py:1297: UserWarning: findfont: Font family ['sans-serif'] not found. Falling back to DejaVu Sans\n",
      "  (prop.get_family(), self.defaultFamily[fontext]))\n"
     ]
    },
    {
     "data": {
      "image/png": "[encoded data removed]",
      "text/plain": [
       "<matplotlib.figure.Figure at 0x7f3443ed5390>"
      ]
     },
     "metadata": {},
     "output_type": "display_data"
    }
   ],
   "source": [
    "plt.figure(figsize=(10, 10))\n",
    "sns.heatmap(dif['est']['state'])\n",
    "plt.show()"
   ]
  },
  {
   "cell_type": "markdown",
   "metadata": {},
   "source": [
    "## Employment by state and year"
   ]
  },
  {
   "cell_type": "code",
   "execution_count": 6,
   "metadata": {},
   "outputs": [
    {
     "name": "stderr",
     "output_type": "stream",
     "text": [
      "/home/anton/miniconda3/lib/python3.6/site-packages/matplotlib/font_manager.py:1297: UserWarning: findfont: Font family ['sans-serif'] not found. Falling back to DejaVu Sans\n",
      "  (prop.get_family(), self.defaultFamily[fontext]))\n"
     ]
    },
    {
     "data": {
      "image/png": "[encoded data removed]",
      "text/plain": [
       "<matplotlib.figure.Figure at 0x7f3435db9c88>"
      ]
     },
     "metadata": {},
     "output_type": "display_data"
    }
   ],
   "source": [
    "plt.figure(figsize=(10, 10))\n",
    "sns.heatmap(dif['emp']['state'])\n",
    "plt.show()"
   ]
  },
  {
   "cell_type": "markdown",
   "metadata": {},
   "source": [
    "## Establishments by industry and year\n",
    "\n",
    "Interactive: Select industry codes to display with ctrl+click and shift+click."
   ]
  },
  {
   "cell_type": "code",
   "execution_count": 11,
   "metadata": {},
   "outputs": [
    {
     "data": {
      "application/vnd.jupyter.widget-view+json": {
       "model_id": "4ef2a09afa9e4a98b766e82d48c3ae98"
      }
     },
     "metadata": {},
     "output_type": "display_data"
    }
   ],
   "source": [
    "naics_selector = SelectMultiple(\n",
    "    options=tuple(naics.keys()),\n",
    "    value=tuple(naics.keys()),\n",
    "    description='NAICS codes'\n",
    ")\n",
    "\n",
    "void = interact(show_by_naics, codes=naics_selector, var=fixed('est'))"
   ]
  },
  {
   "cell_type": "markdown",
   "metadata": {},
   "source": [
    "### Exclude some outliers"
   ]
  },
  {
   "cell_type": "code",
   "execution_count": 12,
   "metadata": {},
   "outputs": [
    {
     "name": "stdout",
     "output_type": "stream",
     "text": [
      "Excluded codes:\n",
      "11 - Agriculture, Forestry, Fishing and Hunting\n",
      "61 - Educational Services\n",
      "92 - Public Administration\n",
      "99 - Unknown\n"
     ]
    },
    {
     "data": {
      "application/vnd.jupyter.widget-view+json": {
       "model_id": "4f644616328e43d4ba27a4beb76e9ef8"
      }
     },
     "metadata": {},
     "output_type": "display_data"
    }
   ],
   "source": [
    "outliers = ['11', '61', '92', '99']\n",
    "print('Excluded codes:')\n",
    "for x in outliers: print(naics[x])\n",
    "keep = [x for x in naics.keys() if x not in outliers]\n",
    "\n",
    "naics_selector = SelectMultiple(\n",
    "    options=tuple(naics.keys()),\n",
    "    value=tuple(keep),\n",
    "    description='NAICS codes'\n",
    ")\n",
    "\n",
    "void = interact(show_by_naics, codes=naics_selector, var=fixed('est'))"
   ]
  },
  {
   "cell_type": "markdown",
   "metadata": {},
   "source": [
    "## Employment by industry and year"
   ]
  },
  {
   "cell_type": "code",
   "execution_count": 13,
   "metadata": {},
   "outputs": [
    {
     "data": {
      "application/vnd.jupyter.widget-view+json": {
       "model_id": "360396d7115d447e85fe1d31616056bb"
      }
     },
     "metadata": {},
     "output_type": "display_data"
    }
   ],
   "source": [
    "naics_selector = SelectMultiple(\n",
    "    options=tuple(naics.keys()),\n",
    "    value=tuple(naics.keys()),\n",
    "    description='NAICS codes'\n",
    ")\n",
    "\n",
    "void = interact(show_by_naics, codes=naics_selector, var=fixed('emp'))"
   ]
  },
  {
   "cell_type": "markdown",
   "metadata": {},
   "source": [
    "### Exclude some outliers"
   ]
  },
  {
   "cell_type": "code",
   "execution_count": 14,
   "metadata": {},
   "outputs": [
    {
     "name": "stdout",
     "output_type": "stream",
     "text": [
      "Excluded codes:\n",
      "11 - Agriculture, Forestry, Fishing and Hunting\n",
      "61 - Educational Services\n",
      "92 - Public Administration\n",
      "99 - Unknown\n"
     ]
    },
    {
     "data": {
      "application/vnd.jupyter.widget-view+json": {
       "model_id": "bd441c557182407e91f27bd5b015e473"
      }
     },
     "metadata": {},
     "output_type": "display_data"
    }
   ],
   "source": [
    "outliers = ['11', '61', '92', '99']\n",
    "print('Excluded codes:')\n",
    "for x in outliers: print(naics[x])\n",
    "keep = [x for x in naics.keys() if x not in outliers]\n",
    "\n",
    "naics_selector = SelectMultiple(\n",
    "    options=tuple(naics.keys()),\n",
    "    value=tuple(keep),\n",
    "    description='NAICS codes'\n",
    ")\n",
    "\n",
    "void = interact(show_by_naics, codes=naics_selector, var=fixed('emp'))"
   ]
  },
  {
   "cell_type": "markdown",
   "metadata": {},
   "source": [
    "# Conclusions\n",
    "- In aggregate, IG shows 50-100% more establishments and 10-30% more employees than CBP\n",
    "- Difference grows over time\n",
    "- There are not many outliers across states\n",
    "- Very strong outliers in industries: too much 99, 92, 11, 61, too little 55\n",
    "- Patterns are similar between establishments and employment"
   ]
  }
 ],
 "metadata": {
  "kernelspec": {
   "display_name": "Python 3",
   "language": "python",
   "name": "python3"
  },
  "language_info": {
   "codemirror_mode": {
    "name": "ipython",
    "version": 3
   },
   "file_extension": ".py",
   "mimetype": "text/x-python",
   "name": "python",
   "nbconvert_exporter": "python",
   "pygments_lexer": "ipython3",
   "version": "3.6.1"
  }
 },
 "nbformat": 4,
 "nbformat_minor": 2
}
